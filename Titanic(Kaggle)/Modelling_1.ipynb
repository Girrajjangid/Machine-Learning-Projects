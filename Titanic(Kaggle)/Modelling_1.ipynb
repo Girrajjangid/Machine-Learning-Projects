{
 "cells": [
  {
   "cell_type": "code",
   "execution_count": 1,
   "metadata": {},
   "outputs": [],
   "source": [
    "import numpy as np\n",
    "import pandas as pd\n",
    "import matplotlib.pyplot as plt\n",
    "import warnings\n",
    "warnings.filterwarnings('ignore')"
   ]
  },
  {
   "cell_type": "code",
   "execution_count": 4,
   "metadata": {},
   "outputs": [],
   "source": [
    "path = 'F:/Books/Machine Learning/DataSets/Titanic'\n",
    "raw_data = pd.read_csv('all_data.csv')\n",
    "train_label = pd.read_csv('labels.csv')\n",
    "sub_data = pd.read_csv(path + '/gender_submission.csv')\n",
    "\n",
    "# One Hot Encoding\n",
    "raw_data = pd.concat([raw_data , pd.get_dummies(raw_data.Sex,drop_first=True,prefix='Sex'),\n",
    "pd.get_dummies(raw_data.Pclass,drop_first=True,prefix='Pclass'),\n",
    "pd.get_dummies(raw_data.Embarked,drop_first=True,prefix='Embarked')],axis=1)\n",
    "raw_data.drop(['Pclass','Embarked','Sex'],axis=1,inplace=True)\n",
    "raw_data.head()\n",
    "\n",
    "# Seperating data\n",
    "train_data = raw_data.iloc[:891]\n",
    "test_data = raw_data.iloc[891:]\n",
    "\n",
    "## Normalize\n",
    "sc_age = StandardScaler()\n",
    "train_data.Age = sc_age.fit_transform(train_data.Age.values.reshape(-1,1))\n",
    "\n",
    "sc_fare = StandardScaler()\n",
    "train_data.Fare = sc_fare.fit_transform(train_data.Fare.values.reshape(-1,1))\n",
    "\n",
    "# Remove outliers\n",
    "drop_obser = []\n",
    "drop_obser.extend(train_data.SibSp[train_data.SibSp > 5].index.tolist())\n",
    "drop_obser.extend(train_data.Parch[train_data.Parch > 4].index.tolist())\n",
    "train_data.drop(set(drop_obser),inplace=True)\n",
    "train_label.drop(set(drop_obser),inplace=True)"
   ]
  },
  {
   "cell_type": "code",
   "execution_count": 3,
   "metadata": {},
   "outputs": [],
   "source": [
    "from xgboost              import XGBClassifier\n",
    "from sklearn.svm          import SVC\n",
    "from sklearn.ensemble     import RandomForestClassifier\n",
    "from sklearn.ensemble     import AdaBoostClassifier\n",
    "from sklearn.ensemble     import ExtraTreesClassifier \n",
    "from sklearn.ensemble     import GradientBoostingClassifier\n",
    "from sklearn.neighbors    import KNeighborsClassifier\n",
    "from sklearn.metrics      import r2_score, accuracy_score, mean_squared_error\n",
    "from sklearn.pipeline     import Pipeline\n",
    "from sklearn.model_selection import cross_val_score\n",
    "from sklearn.model_selection import KFold\n",
    "from sklearn.model_selection import RandomizedSearchCV,GridSearchCV\n",
    "from sklearn.preprocessing   import StandardScaler\n",
    "from sklearn.model_selection import train_test_split\n",
    "\n",
    "from sklearn.metrics import classification_report, confusion_matrix "
   ]
  },
  {
   "cell_type": "code",
   "execution_count": 5,
   "metadata": {},
   "outputs": [],
   "source": [
    "x_train, x_test, y_train, y_test = train_test_split(train_data,\n",
    "                                                    train_label,\n",
    "                                                   test_size=.30,\n",
    "                                                   random_state= 42,\n",
    "                                                   shuffle=True)"
   ]
  },
  {
   "cell_type": "code",
   "execution_count": 44,
   "metadata": {},
   "outputs": [],
   "source": [
    "pipelines = []\n",
    "n_estimators = 200\n",
    "seed = 42\n",
    "pipelines.append( ( 'SVC' , Pipeline( [('SVC',SVC()) ]) ) ) \n",
    "\n",
    "pipelines.append( ( 'KNN' , Pipeline( [('KNN',KNeighborsClassifier()) ]) ) )\n",
    "\n",
    "pipelines.append( ( 'RF'  , Pipeline( [('RF', RandomForestClassifier(random_state=seed, n_estimators=n_estimators)) ]) ) )\n",
    "\n",
    "pipelines.append( ( 'Ada' , Pipeline( [('Ada',AdaBoostClassifier(random_state=seed    , n_estimators=n_estimators)) ]) ) )\n",
    "\n",
    "pipelines.append( ( 'ET'  , Pipeline( [('ET', ExtraTreesClassifier(random_state=seed  , n_estimators=n_estimators)) ]) ) )\n",
    "\n",
    "pipelines.append( ( 'GB'  , Pipeline( [('GB', GradientBoostingClassifier(random_state=seed)) ]) ) )\n",
    "\n",
    "pipelines.append( ( 'XGB'  , Pipeline( [('XGB', XGBClassifier(random_state=seed)) ]) ) )\n"
   ]
  },
  {
   "cell_type": "code",
   "execution_count": 45,
   "metadata": {},
   "outputs": [
    {
     "data": {
      "image/png": "[encoded data removed]",
      "text/plain": [
       "<Figure size 864x576 with 1 Axes>"
      ]
     },
     "metadata": {},
     "output_type": "display_data"
    }
   ],
   "source": [
    "results, names  = [], []\n",
    "for name, model in pipelines:\n",
    "    cv_results = cross_val_score(model, x_train, y_train, cv = 5 ) \n",
    "    results.append(cv_results)\n",
    "    names.append(name)\n",
    "    \n",
    "fig = plt.figure(figsize=(12,8))    \n",
    "fig.suptitle(\"Algorithms comparison\")\n",
    "ax = fig.add_subplot(1,1,1)\n",
    "plt.boxplot(results)\n",
    "ax.set_xticklabels(names)\n",
    "plt.show()"
   ]
  },
  {
   "cell_type": "code",
   "execution_count": 46,
   "metadata": {},
   "outputs": [
    {
     "data": {
      "text/html": [
       "<div>\n",
       "<style scoped>\n",
       "    .dataframe tbody tr th:only-of-type {\n",
       "        vertical-align: middle;\n",
       "    }\n",
       "\n",
       "    .dataframe tbody tr th {\n",
       "        vertical-align: top;\n",
       "    }\n",
       "\n",
       "    .dataframe thead th {\n",
       "        text-align: right;\n",
       "    }\n",
       "</style>\n",
       "<table border=\"1\" class=\"dataframe\">\n",
       "  <thead>\n",
       "    <tr style=\"text-align: right;\">\n",
       "      <th></th>\n",
       "      <th>CV1</th>\n",
       "      <th>CV2</th>\n",
       "      <th>CV3</th>\n",
       "      <th>CV4</th>\n",
       "      <th>CV5</th>\n",
       "    </tr>\n",
       "  </thead>\n",
       "  <tbody>\n",
       "    <tr>\n",
       "      <td>SVC</td>\n",
       "      <td>0.903226</td>\n",
       "      <td>0.766129</td>\n",
       "      <td>0.786885</td>\n",
       "      <td>0.778689</td>\n",
       "      <td>0.803279</td>\n",
       "    </tr>\n",
       "    <tr>\n",
       "      <td>KNN</td>\n",
       "      <td>0.790323</td>\n",
       "      <td>0.766129</td>\n",
       "      <td>0.762295</td>\n",
       "      <td>0.811475</td>\n",
       "      <td>0.803279</td>\n",
       "    </tr>\n",
       "    <tr>\n",
       "      <td>RF</td>\n",
       "      <td>0.830645</td>\n",
       "      <td>0.774194</td>\n",
       "      <td>0.762295</td>\n",
       "      <td>0.795082</td>\n",
       "      <td>0.770492</td>\n",
       "    </tr>\n",
       "    <tr>\n",
       "      <td>Ada</td>\n",
       "      <td>0.838710</td>\n",
       "      <td>0.798387</td>\n",
       "      <td>0.795082</td>\n",
       "      <td>0.795082</td>\n",
       "      <td>0.795082</td>\n",
       "    </tr>\n",
       "    <tr>\n",
       "      <td>ET</td>\n",
       "      <td>0.741935</td>\n",
       "      <td>0.758065</td>\n",
       "      <td>0.737705</td>\n",
       "      <td>0.770492</td>\n",
       "      <td>0.770492</td>\n",
       "    </tr>\n",
       "    <tr>\n",
       "      <td>GB</td>\n",
       "      <td>0.862903</td>\n",
       "      <td>0.790323</td>\n",
       "      <td>0.811475</td>\n",
       "      <td>0.786885</td>\n",
       "      <td>0.786885</td>\n",
       "    </tr>\n",
       "    <tr>\n",
       "      <td>XGB</td>\n",
       "      <td>0.879032</td>\n",
       "      <td>0.774194</td>\n",
       "      <td>0.811475</td>\n",
       "      <td>0.786885</td>\n",
       "      <td>0.811475</td>\n",
       "    </tr>\n",
       "  </tbody>\n",
       "</table>\n",
       "</div>"
      ],
      "text/plain": [
       "          CV1       CV2       CV3       CV4       CV5\n",
       "SVC  0.903226  0.766129  0.786885  0.778689  0.803279\n",
       "KNN  0.790323  0.766129  0.762295  0.811475  0.803279\n",
       "RF   0.830645  0.774194  0.762295  0.795082  0.770492\n",
       "Ada  0.838710  0.798387  0.795082  0.795082  0.795082\n",
       "ET   0.741935  0.758065  0.737705  0.770492  0.770492\n",
       "GB   0.862903  0.790323  0.811475  0.786885  0.786885\n",
       "XGB  0.879032  0.774194  0.811475  0.786885  0.811475"
      ]
     },
     "execution_count": 46,
     "metadata": {},
     "output_type": "execute_result"
    }
   ],
   "source": [
    "score = pd.DataFrame(results,index=names,columns=['CV1','CV2','CV3','CV4','CV5'])\n",
    "score"
   ]
  },
  {
   "cell_type": "markdown",
   "metadata": {},
   "source": [
    "# SVC Hypertuning "
   ]
  },
  {
   "cell_type": "code",
   "execution_count": 6,
   "metadata": {},
   "outputs": [
    {
     "data": {
      "text/plain": [
       "0.8371212121212122"
      ]
     },
     "execution_count": 6,
     "metadata": {},
     "output_type": "execute_result"
    }
   ],
   "source": [
    "svc = SVC()\n",
    "svc.fit(x_train,y_train)\n",
    "svc.score(x_test,y_test)"
   ]
  },
  {
   "cell_type": "code",
   "execution_count": 8,
   "metadata": {
    "scrolled": true
   },
   "outputs": [
    {
     "name": "stdout",
     "output_type": "stream",
     "text": [
      "Fitting 5 folds for each of 10 candidates, totalling 50 fits\n"
     ]
    },
    {
     "name": "stderr",
     "output_type": "stream",
     "text": [
      "[Parallel(n_jobs=-1)]: Using backend LokyBackend with 8 concurrent workers.\n",
      "[Parallel(n_jobs=-1)]: Done   2 tasks      | elapsed:    2.5s\n",
      "[Parallel(n_jobs=-1)]: Done   9 tasks      | elapsed:    2.7s\n",
      "[Parallel(n_jobs=-1)]: Done  16 tasks      | elapsed:    2.8s\n",
      "[Parallel(n_jobs=-1)]: Done  25 tasks      | elapsed:    3.0s\n",
      "[Parallel(n_jobs=-1)]: Done  34 tasks      | elapsed:    3.0s\n",
      "[Parallel(n_jobs=-1)]: Done  41 out of  50 | elapsed:    3.0s remaining:    0.6s\n",
      "[Parallel(n_jobs=-1)]: Done  47 out of  50 | elapsed:   15.3s remaining:    0.9s\n"
     ]
    },
    {
     "name": "stdout",
     "output_type": "stream",
     "text": [
      "Best: 0.789902 using {'kernel': 'rbf', 'gamma': 0.01, 'C': 1}\n",
      "0.8068181818181818\n"
     ]
    },
    {
     "name": "stderr",
     "output_type": "stream",
     "text": [
      "[Parallel(n_jobs=-1)]: Done  50 out of  50 | elapsed:   30.0s finished\n",
      "C:\\Users\\GirrajJangid\\Anaconda3\\lib\\site-packages\\sklearn\\model_selection\\_search.py:813: DeprecationWarning: The default of the `iid` parameter will change from True to False in version 0.22 and will be removed in 0.24. This will change numeric results when test-set sizes are unequal.\n",
      "  DeprecationWarning)\n"
     ]
    },
    {
     "ename": "NameError",
     "evalue": "name 'grid_predictions' is not defined",
     "output_type": "error",
     "traceback": [
      "\u001b[1;31m---------------------------------------------------------------------------\u001b[0m",
      "\u001b[1;31mNameError\u001b[0m                                 Traceback (most recent call last)",
      "\u001b[1;32m<ipython-input-8-26655d2148eb>\u001b[0m in \u001b[0;36m<module>\u001b[1;34m()\u001b[0m\n\u001b[0;32m     10\u001b[0m \u001b[1;33m\u001b[0m\u001b[0m\n\u001b[0;32m     11\u001b[0m \u001b[0mprint\u001b[0m\u001b[1;33m(\u001b[0m\u001b[0mgrid_model\u001b[0m\u001b[1;33m.\u001b[0m\u001b[0mscore\u001b[0m\u001b[1;33m(\u001b[0m\u001b[0mx_test\u001b[0m\u001b[1;33m,\u001b[0m\u001b[0my_test\u001b[0m\u001b[1;33m)\u001b[0m\u001b[1;33m)\u001b[0m\u001b[1;31m# print classification report\u001b[0m\u001b[1;33m\u001b[0m\u001b[0m\n\u001b[1;32m---> 12\u001b[1;33m \u001b[0mprint\u001b[0m\u001b[1;33m(\u001b[0m\u001b[0mclassification_report\u001b[0m\u001b[1;33m(\u001b[0m\u001b[0my_test\u001b[0m\u001b[1;33m,\u001b[0m \u001b[0mgrid_predictions\u001b[0m\u001b[1;33m)\u001b[0m\u001b[1;33m)\u001b[0m\u001b[1;33m\u001b[0m\u001b[0m\n\u001b[0m",
      "\u001b[1;31mNameError\u001b[0m: name 'grid_predictions' is not defined"
     ]
    }
   ],
   "source": [
    "  # defining parameter range \n",
    "param_grid = {'C': [0.1, 1, 10, 100, 1000],  \n",
    "              'gamma': [1, 0.1, 0.01, 0.001, 0.0001,5,10], \n",
    "              'kernel': ['linear', 'rbf']}\n",
    "svc = SVC()\n",
    "grid_ = RandomizedSearchCV ( estimator=svc , param_distributions=param_grid,cv = 5,verbose = 10,n_jobs=-1)\n",
    "grid_model = grid_.fit(x_train,y_train) \n",
    "  \n",
    "print(\"Best: %f using %s\" % (grid_model.best_score_, grid_model.best_params_))\n"
   ]
  },
  {
   "cell_type": "code",
   "execution_count": 12,
   "metadata": {},
   "outputs": [
    {
     "data": {
      "text/plain": [
       "0.8068181818181818"
      ]
     },
     "execution_count": 12,
     "metadata": {},
     "output_type": "execute_result"
    }
   ],
   "source": [
    "param = {'kernel': 'rbf', 'gamma': 0.01, 'C': 1}\n",
    "svc = SVC(**param)\n",
    "svc.fit(x_train,y_train)\n",
    "svc.score(x_test,y_test)\n",
    "\n",
    "# Dont getting a good pridiction over hypertuning"
   ]
  },
  {
   "cell_type": "markdown",
   "metadata": {},
   "source": [
    "# XGB Tuning "
   ]
  },
  {
   "cell_type": "code",
   "execution_count": 67,
   "metadata": {},
   "outputs": [
    {
     "name": "stdout",
     "output_type": "stream",
     "text": [
      "Fitting 7 folds for each of 10 candidates, totalling 70 fits\n"
     ]
    },
    {
     "name": "stderr",
     "output_type": "stream",
     "text": [
      "[Parallel(n_jobs=-1)]: Using backend LokyBackend with 8 concurrent workers.\n",
      "[Parallel(n_jobs=-1)]: Done  16 tasks      | elapsed:    9.8s\n",
      "[Parallel(n_jobs=-1)]: Done  70 out of  70 | elapsed:   14.8s finished\n"
     ]
    },
    {
     "name": "stdout",
     "output_type": "stream",
     "text": [
      "Best: 0.806189 using {'subsample': 0.6, 'reg_lambda': 1, 'reg_alpha': 0, 'n_estimators': 500, 'min_child_weight': 3, 'max_depth': 7, 'learning_rate': 0.01, 'gamma': 1.5, 'colsample_bytree': 0.8}\n",
      "0.8409090909090909\n"
     ]
    }
   ],
   "source": [
    "params = {'learning_rate':[0.1,0.08,0.05,0.01,0.001],\n",
    "         'gamma':[0.01,0.1,0.3,0.5,1,1.5,2],\n",
    "         'max_depth':[2,4,7,10],\n",
    "         'colsample_bytree':[0.3,0.6,0.8,1],\n",
    "         \"subsample\": [0.2, 0.4, 0.5, 0.6, 0.7],\n",
    "         \"reg_alpha\": [0, 0.5, 1],\n",
    "         \"reg_lambda\": [1, 1.5, 2, 3, 4.5],\n",
    "         \"min_child_weight\": [1, 3, 5, 7],\n",
    "         \"n_estimators\": [100, 250, 500, 1000]}\n",
    "\n",
    "xgb_clf = XGBClassifier()\n",
    "\n",
    "xgb_rscv = RandomizedSearchCV(xgb_clf, param_distributions = params,\n",
    "                             cv = 7, verbose = 3, random_state = 40, n_jobs=-1)\n",
    "\n",
    "model_xgb = xgb_rscv.fit(x_train,y_train)\n",
    "\n",
    "print(\"Best: %f using %s\" % (model_xgb.best_score_, model_xgb.best_params_))\n",
    "\n",
    "print(model_xgb.score(x_test,y_test))"
   ]
  },
  {
   "cell_type": "code",
   "execution_count": 69,
   "metadata": {},
   "outputs": [
    {
     "name": "stdout",
     "output_type": "stream",
     "text": [
      "Fitting 10 folds for each of 10 candidates, totalling 100 fits\n"
     ]
    },
    {
     "name": "stderr",
     "output_type": "stream",
     "text": [
      "[Parallel(n_jobs=-1)]: Using backend LokyBackend with 8 concurrent workers.\n",
      "[Parallel(n_jobs=-1)]: Done  16 tasks      | elapsed:    2.5s\n",
      "[Parallel(n_jobs=-1)]: Done 100 out of 100 | elapsed:   16.2s finished\n"
     ]
    },
    {
     "name": "stdout",
     "output_type": "stream",
     "text": [
      "Best: 0.817590 using {'subsample': 0.55, 'reg_lambda': 1, 'reg_alpha': 0, 'n_estimators': 520, 'min_child_weight': 3, 'max_depth': 6, 'learning_rate': 0.03, 'gamma': 1.2, 'colsample_bytree': 0.9}\n",
      "0.8409090909090909\n"
     ]
    }
   ],
   "source": [
    "best_params = {'subsample': [0.6,0.65,0.55], \n",
    "               'reg_lambda': [1,1.2,0.8] ,\n",
    "               'reg_alpha': [0,0.1,0.09] ,\n",
    "               'n_estimators': [500,450,480,520], \n",
    "               'min_child_weight': [1,2,3], \n",
    "               'max_depth': [7,5,6] ,\n",
    "               'learning_rate': [0.01,0.02,0.03] ,\n",
    "               'gamma': [1.5,1.2,1.7], \n",
    "               'colsample_bytree': [0.8,0.9,0.85]}\n",
    "\n",
    "xgb_rscv = RandomizedSearchCV(xgb_clf, param_distributions = best_params,\n",
    "                             cv = 10, verbose = 3, random_state = 40, n_jobs=-1)\n",
    "\n",
    "model_xgb = xgb_rscv.fit(x_train,y_train)\n",
    "\n",
    "print(\"Best: %f using %s\" % (model_xgb.best_score_, model_xgb.best_params_))\n",
    "\n",
    "print(model_xgb.score(x_test,y_test))"
   ]
  },
  {
   "cell_type": "code",
   "execution_count": 70,
   "metadata": {
    "scrolled": false
   },
   "outputs": [
    {
     "data": {
      "text/plain": [
       "XGBClassifier(base_score=0.5, booster='gbtree', colsample_bylevel=1,\n",
       "              colsample_bynode=1, colsample_bytree=0.9, gamma=1.2,\n",
       "              learning_rate=0.03, max_delta_step=0, max_depth=6,\n",
       "              min_child_weight=3, missing=None, n_estimators=520, n_jobs=1,\n",
       "              nthread=None, objective='binary:logistic', random_state=0,\n",
       "              reg_alpha=0, reg_lambda=1, scale_pos_weight=1, seed=None,\n",
       "              silent=None, subsample=0.55, verbosity=1)"
      ]
     },
     "execution_count": 70,
     "metadata": {},
     "output_type": "execute_result"
    }
   ],
   "source": [
    "best_params_1 = {'subsample': 0.6, \n",
    "                 'reg_lambda': 1,\n",
    "                 'reg_alpha': 0, \n",
    "                 'n_estimators': 500, \n",
    "                 'min_child_weight': 3, \n",
    "                 'max_depth': 7,\n",
    "                 'learning_rate': 0.01, \n",
    "                 'gamma': 1.5, \n",
    "                 'colsample_bytree': 0.8}\n",
    "\n",
    "best_params_2 ={ 'subsample': 0.55, \n",
    "                'reg_lambda': 1, \n",
    "                'reg_alpha': 0, \n",
    "                'n_estimators': 520,\n",
    "                'min_child_weight': 3,\n",
    "                'max_depth': 6,\n",
    "                'learning_rate': 0.03,\n",
    "                'gamma': 1.2,\n",
    "                'colsample_bytree': 0.9}\n",
    "\n",
    "xgb_1 = XGBClassifier(**best_params_1)\n",
    "xgb_1.fit(x_train,y_train)\n",
    "\n",
    "xgb_2 = XGBClassifier(**best_params_2)\n",
    "xgb_2.fit(x_train,y_train)\n"
   ]
  },
  {
   "cell_type": "markdown",
   "metadata": {},
   "source": [
    "# AdaBoost Tuning"
   ]
  },
  {
   "cell_type": "code",
   "execution_count": 13,
   "metadata": {},
   "outputs": [
    {
     "data": {
      "text/plain": [
       "0.803030303030303"
      ]
     },
     "execution_count": 13,
     "metadata": {},
     "output_type": "execute_result"
    }
   ],
   "source": [
    "adcl = AdaBoostClassifier()\n",
    "adcl.fit(x_train,y_train)\n",
    "adcl.score(x_test,y_test)"
   ]
  },
  {
   "cell_type": "code",
   "execution_count": 16,
   "metadata": {},
   "outputs": [
    {
     "name": "stdout",
     "output_type": "stream",
     "text": [
      "Fitting 5 folds for each of 10 candidates, totalling 50 fits\n"
     ]
    },
    {
     "name": "stderr",
     "output_type": "stream",
     "text": [
      "[Parallel(n_jobs=-1)]: Using backend LokyBackend with 8 concurrent workers.\n",
      "[Parallel(n_jobs=-1)]: Done   2 tasks      | elapsed:    2.7s\n",
      "[Parallel(n_jobs=-1)]: Done   9 tasks      | elapsed:    4.2s\n",
      "[Parallel(n_jobs=-1)]: Done  16 tasks      | elapsed:    5.6s\n",
      "[Parallel(n_jobs=-1)]: Done  25 tasks      | elapsed:    6.4s\n",
      "[Parallel(n_jobs=-1)]: Done  34 tasks      | elapsed:    6.6s\n",
      "[Parallel(n_jobs=-1)]: Done  41 out of  50 | elapsed:    6.9s remaining:    1.4s\n"
     ]
    },
    {
     "name": "stdout",
     "output_type": "stream",
     "text": [
      "Best: 0.804560 using {'n_estimators': 50, 'learning_rate': 0.5}\n",
      "0.7992424242424242\n"
     ]
    },
    {
     "name": "stderr",
     "output_type": "stream",
     "text": [
      "[Parallel(n_jobs=-1)]: Done  47 out of  50 | elapsed:    7.1s remaining:    0.4s\n",
      "[Parallel(n_jobs=-1)]: Done  50 out of  50 | elapsed:    7.1s finished\n",
      "C:\\Users\\GirrajJangid\\Anaconda3\\lib\\site-packages\\sklearn\\model_selection\\_search.py:813: DeprecationWarning: The default of the `iid` parameter will change from True to False in version 0.22 and will be removed in 0.24. This will change numeric results when test-set sizes are unequal.\n",
      "  DeprecationWarning)\n"
     ]
    }
   ],
   "source": [
    "param = { 'n_estimators': [50,100,200,500,1000], \n",
    "         'learning_rate': [1.0,0.01,0.1,0.5,0.05]  }\n",
    "\n",
    "adcl = AdaBoostClassifier()\n",
    "adb_rscv = RandomizedSearchCV(adcl, param_distributions = param,\n",
    "                             cv = 5, verbose = 10, random_state = 40, n_jobs=-1)\n",
    "\n",
    "model_adb = adb_rscv.fit(x_train,y_train)\n",
    "\n",
    "print(\"Best: %f using %s\" % (model_adb.best_score_, model_adb.best_params_))\n",
    "\n",
    "print(model_adb.score(x_test,y_test))"
   ]
  },
  {
   "cell_type": "code",
   "execution_count": 17,
   "metadata": {},
   "outputs": [],
   "source": [
    "# doesnt provide good solution"
   ]
  },
  {
   "cell_type": "markdown",
   "metadata": {},
   "source": [
    "# Stacking method"
   ]
  },
  {
   "cell_type": "code",
   "execution_count": 32,
   "metadata": {},
   "outputs": [],
   "source": [
    "df = pd.DataFrame()\n",
    "svc = SVC()\n",
    "svc.fit(x_train,y_train)\n",
    "y_pred_svc = svc.predict(x_test)\n",
    "df = pd.concat([df , pd.DataFrame(y_pred_svc,columns=['SVC'])],axis=1)\n",
    "\n",
    "adb = AdaBoostClassifier()\n",
    "adb.fit(x_train,y_train)\n",
    "y_pred_adb = adb.predict(x_test)\n",
    "df = pd.concat([df , pd.DataFrame(y_pred_adb,columns=['ADB'])],axis=1)\n",
    "\n",
    "best_params_1 = {'subsample': 0.6, \n",
    "                 'reg_lambda': 1,\n",
    "                 'reg_alpha': 0, \n",
    "                 'n_estimators': 500, \n",
    "                 'min_child_weight': 3, \n",
    "                 'max_depth': 7,\n",
    "                 'learning_rate': 0.01, \n",
    "                 'gamma': 1.5, \n",
    "                 'colsample_bytree': 0.8}\n",
    "xgb_1 = XGBClassifier(**best_params_1)\n",
    "xgb_1.fit(x_train,y_train)\n",
    "y_pred_xgb1 = xgb_1.predict(x_test)\n",
    "df = pd.concat([df , pd.DataFrame(y_pred_xgb1,columns=['XGB_1'])],axis=1)\n",
    "\n",
    "\n",
    "best_params_2 ={ 'subsample': 0.55, \n",
    "                'reg_lambda': 1, \n",
    "                'reg_alpha': 0, \n",
    "                'n_estimators': 520,\n",
    "                'min_child_weight': 3,\n",
    "                'max_depth': 6,\n",
    "                'learning_rate': 0.03,\n",
    "                'gamma': 1.2,\n",
    "                'colsample_bytree': 0.9}\n",
    "\n",
    "\n",
    "xgb_2 = XGBClassifier(**best_params_2)\n",
    "xgb_2.fit(x_train,y_train)\n",
    "y_pred_xgb2 = xgb_2.predict(x_test)\n",
    "df = pd.concat([df , pd.DataFrame(y_pred_xgb2,columns=['XGB_2'])],axis=1)\n",
    "\n",
    "gdb = GradientBoostingClassifier()\n",
    "gdb.fit(x_train,y_train)\n",
    "y_pred_gdb = gdb.predict(x_test)\n",
    "df = pd.concat([df , pd.DataFrame(y_pred_adb,columns=['GRB'])],axis=1)\n"
   ]
  },
  {
   "cell_type": "code",
   "execution_count": 41,
   "metadata": {},
   "outputs": [
    {
     "name": "stdout",
     "output_type": "stream",
     "text": [
      "              precision    recall  f1-score   support\n",
      "\n",
      "           0       0.86      0.89      0.88       165\n",
      "           1       0.81      0.76      0.78        99\n",
      "\n",
      "    accuracy                           0.84       264\n",
      "   macro avg       0.83      0.82      0.83       264\n",
      "weighted avg       0.84      0.84      0.84       264\n",
      "\n"
     ]
    }
   ],
   "source": [
    "y_pred = xgb_2.predict(x_test)\n",
    "print(classification_report(y_test,y_pred))"
   ]
  },
  {
   "cell_type": "code",
   "execution_count": 48,
   "metadata": {},
   "outputs": [
    {
     "name": "stdout",
     "output_type": "stream",
     "text": [
      "              precision    recall  f1-score   support\n",
      "\n",
      "           0       0.87      0.85      0.86       165\n",
      "           1       0.76      0.79      0.77        99\n",
      "\n",
      "    accuracy                           0.83       264\n",
      "   macro avg       0.81      0.82      0.82       264\n",
      "weighted avg       0.83      0.83      0.83       264\n",
      "\n"
     ]
    }
   ],
   "source": [
    "print(classification_report(y_test,df.mode(axis=1)))"
   ]
  },
  {
   "cell_type": "code",
   "execution_count": 50,
   "metadata": {},
   "outputs": [
    {
     "data": {
      "text/plain": [
       "0.8409090909090909"
      ]
     },
     "execution_count": 50,
     "metadata": {},
     "output_type": "execute_result"
    }
   ],
   "source": [
    "accuracy_score(y_test,y_pred_xgb2)"
   ]
  },
  {
   "cell_type": "code",
   "execution_count": 57,
   "metadata": {},
   "outputs": [],
   "source": [
    "best_params_2 ={ 'subsample': 0.55, \n",
    "                'reg_lambda': 1, \n",
    "                'reg_alpha': 0, \n",
    "                'n_estimators': 520,\n",
    "                'min_child_weight': 3,\n",
    "                'max_depth': 6,\n",
    "                'learning_rate': 0.03,\n",
    "                'gamma': 1.2,\n",
    "                'colsample_bytree': 0.9}\n",
    "\n",
    "\n",
    "xgb_2 = XGBClassifier(**best_params_2)\n",
    "xgb_2.fit(train_data,train_label)\n",
    "y_pred_xgb2 = xgb_2.predict(test_data)\n"
   ]
  },
  {
   "cell_type": "code",
   "execution_count": 64,
   "metadata": {},
   "outputs": [],
   "source": [
    "sub_data.Survived = y_pred_xgb2"
   ]
  },
  {
   "cell_type": "code",
   "execution_count": 68,
   "metadata": {},
   "outputs": [],
   "source": [
    "sub_data.Survived = y_pred_xgb2\n",
    "sub_data.to_csv('submission2.csv',index=False)"
   ]
  },
  {
   "cell_type": "code",
   "execution_count": 69,
   "metadata": {},
   "outputs": [
    {
     "data": {
      "text/html": [
       "<div>\n",
       "<style scoped>\n",
       "    .dataframe tbody tr th:only-of-type {\n",
       "        vertical-align: middle;\n",
       "    }\n",
       "\n",
       "    .dataframe tbody tr th {\n",
       "        vertical-align: top;\n",
       "    }\n",
       "\n",
       "    .dataframe thead th {\n",
       "        text-align: right;\n",
       "    }\n",
       "</style>\n",
       "<table border=\"1\" class=\"dataframe\">\n",
       "  <thead>\n",
       "    <tr style=\"text-align: right;\">\n",
       "      <th></th>\n",
       "      <th>PassengerId</th>\n",
       "      <th>Survived</th>\n",
       "    </tr>\n",
       "  </thead>\n",
       "  <tbody>\n",
       "    <tr>\n",
       "      <td>0</td>\n",
       "      <td>892</td>\n",
       "      <td>0</td>\n",
       "    </tr>\n",
       "    <tr>\n",
       "      <td>1</td>\n",
       "      <td>893</td>\n",
       "      <td>1</td>\n",
       "    </tr>\n",
       "    <tr>\n",
       "      <td>2</td>\n",
       "      <td>894</td>\n",
       "      <td>0</td>\n",
       "    </tr>\n",
       "    <tr>\n",
       "      <td>3</td>\n",
       "      <td>895</td>\n",
       "      <td>0</td>\n",
       "    </tr>\n",
       "    <tr>\n",
       "      <td>4</td>\n",
       "      <td>896</td>\n",
       "      <td>0</td>\n",
       "    </tr>\n",
       "    <tr>\n",
       "      <td>...</td>\n",
       "      <td>...</td>\n",
       "      <td>...</td>\n",
       "    </tr>\n",
       "    <tr>\n",
       "      <td>413</td>\n",
       "      <td>1305</td>\n",
       "      <td>0</td>\n",
       "    </tr>\n",
       "    <tr>\n",
       "      <td>414</td>\n",
       "      <td>1306</td>\n",
       "      <td>1</td>\n",
       "    </tr>\n",
       "    <tr>\n",
       "      <td>415</td>\n",
       "      <td>1307</td>\n",
       "      <td>0</td>\n",
       "    </tr>\n",
       "    <tr>\n",
       "      <td>416</td>\n",
       "      <td>1308</td>\n",
       "      <td>0</td>\n",
       "    </tr>\n",
       "    <tr>\n",
       "      <td>417</td>\n",
       "      <td>1309</td>\n",
       "      <td>0</td>\n",
       "    </tr>\n",
       "  </tbody>\n",
       "</table>\n",
       "<p>418 rows × 2 columns</p>\n",
       "</div>"
      ],
      "text/plain": [
       "     PassengerId  Survived\n",
       "0            892         0\n",
       "1            893         1\n",
       "2            894         0\n",
       "3            895         0\n",
       "4            896         0\n",
       "..           ...       ...\n",
       "413         1305         0\n",
       "414         1306         1\n",
       "415         1307         0\n",
       "416         1308         0\n",
       "417         1309         0\n",
       "\n",
       "[418 rows x 2 columns]"
      ]
     },
     "execution_count": 69,
     "metadata": {},
     "output_type": "execute_result"
    }
   ],
   "source": [
    "pd.read_csv('submission2.csv')"
   ]
  }
 ],
 "metadata": {
  "kernelspec": {
   "display_name": "Python 3",
   "language": "python",
   "name": "python3"
  },
  "language_info": {
   "codemirror_mode": {
    "name": "ipython",
    "version": 3
   },
   "file_extension": ".py",
   "mimetype": "text/x-python",
   "name": "python",
   "nbconvert_exporter": "python",
   "pygments_lexer": "ipython3",
   "version": "3.6.5"
  }
 },
 "nbformat": 4,
 "nbformat_minor": 2
}
