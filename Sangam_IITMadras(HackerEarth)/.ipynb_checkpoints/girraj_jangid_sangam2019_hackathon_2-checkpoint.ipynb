{
 "cells": [
  {
   "cell_type": "code",
   "execution_count": null,
   "metadata": {},
   "outputs": [],
   "source": [
    "import folium   as f\n",
    "import pandas as pd\n",
    "import numpy as np\n",
    "import matplotlib.pyplot   as plt\n",
    "import matplotlib.ticker   as ticker\n",
    "import chart_studio.plotly as py\n",
    "import plotly.graph_objs   as go\n",
    "import seaborn as sns\n",
    "from   folium.plugins      import HeatMap\n",
    "from   pygeocoder          import Geocoder\n",
    "from plotly.offline        import init_notebook_mode, iplot\n",
    "\n",
    "init_notebook_mode(connected=True)\n",
    "%matplotlib inline\n",
    "plt.style.use(\"fivethirtyeight\")"
   ]
  },
  {
   "cell_type": "code",
   "execution_count": null,
   "metadata": {},
   "outputs": [],
   "source": [
    "raw_data = pd.read_csv('../../DataSets/sangamiitmadras/saaf_data.csv')"
   ]
  },
  {
   "cell_type": "markdown",
   "metadata": {},
   "source": [
    "# Exploratory Data Analysis"
   ]
  },
  {
   "cell_type": "code",
   "execution_count": null,
   "metadata": {},
   "outputs": [],
   "source": [
    "sns.set(font_scale=0.8)\n",
    "plt.figure(figsize=(10,8))\n",
    "ncount = raw_data.device_id.value_counts() \n",
    "order = raw_data.device_id.value_counts().index\n",
    "ax = sns.countplot(x=\"device_id\", data=raw_data, order = order,)\n",
    "plt.title('Distribution of devices frequencies')\n",
    "plt.xlabel('Features')\n",
    "ax2=ax.twinx()\n",
    "\n",
    "ax2.yaxis.tick_left()\n",
    "ax.yaxis.tick_right()\n",
    "\n",
    "ax2.yaxis.set_label_position('left')\n",
    "ax.yaxis.set_label_position('right')\n",
    "\n",
    "ax2.set_ylabel('Frequency')\n",
    "\n",
    "ax.yaxis.set_major_locator(ticker.LinearLocator(11))\n",
    "\n",
    "#plt.savefig('device_frequency.png')"
   ]
  },
  {
   "cell_type": "markdown",
   "metadata": {},
   "source": [
    "## Removing the outlier locations from all Stationary devices"
   ]
  },
  {
   "cell_type": "code",
   "execution_count": null,
   "metadata": {},
   "outputs": [],
   "source": [
    "def getlatlog_S():\n",
    "\n",
    "    latlog = {}\n",
    "    x = ['S1','S3','S4','S5','S6','S7','S8','S9','S10']\n",
    "    for i in x:\n",
    "        \n",
    "        # longitude lies in range between 70-80 remaining are outliers\n",
    "        t1 = raw_data.loc[raw_data.loc[:,'device_id'] == i , 'longitude'].between(50,100)\n",
    "        t2 = np.mean(raw_data.loc[raw_data.loc[:,'device_id'] == i , 'longitude'].loc[t1].value_counts().keys())\n",
    "        raw_data.loc[raw_data.loc[:,'device_id'] == i , 'longitude'] = t2\n",
    "         \n",
    "        # latitude lies in range between 10-40 remaining are outrliers\n",
    "        t1 = raw_data.loc[raw_data.loc[:,'device_id'] == i , 'latitude'].between(10,40)\n",
    "        t2 = np.mean(raw_data.loc[raw_data.loc[:,'device_id'] == i , 'latitude'].loc[t1].value_counts().keys())\n",
    "        raw_data.loc[raw_data.loc[:,'device_id'] == i , 'latitude'] = t2\n",
    " \n",
    "        log = raw_data[raw_data.device_id == i].longitude.iloc[0]\n",
    "    \n",
    "        lat = raw_data[raw_data.device_id == i].latitude.iloc[0]\n",
    "        \n",
    "        # storing in a dictionary\n",
    "        latlog[i] = (lat,log)\n",
    "    \n",
    "    return latlog\n",
    "\n",
    "latlog = getlatlog_S()\n",
    "latlog"
   ]
  },
  {
   "cell_type": "markdown",
   "metadata": {},
   "source": [
    "## Calculating the addresses of these GeoLocations"
   ]
  },
  {
   "cell_type": "code",
   "execution_count": null,
   "metadata": {},
   "outputs": [],
   "source": [
    "\n",
    "#########################################\n",
    "# My query limit is reached to maximum  #\n",
    "#########################################\n",
    "\n",
    "#api = 'AIzaSyBSneru8nRT9VXk6M9GBSek6s9YgVHYxm'\n",
    "#geocoder = Geocoder(api) \n",
    "#for i,j in enumerate(df.device_id):\n",
    "#results = geocoder.reverse_geocode(df.latitude.loc[0], df.longitude.loc[0])\n",
    "#df['address'] = results.coordinates\n",
    "#results.city\n",
    "#results.country\n",
    "#results.street_address\n",
    "#results.administrative_area_level_1\n",
    "#results.formatted_address"
   ]
  },
  {
   "cell_type": "code",
   "execution_count": null,
   "metadata": {},
   "outputs": [],
   "source": [
    "s1 = 'Gurugram Sector 48, Gurgaon, Haryana, 122001 Sector 48 Gurugram India'\n",
    "s3 = 'Gurugram South City 2, Gurgaon, Haryana, 122001 South City 2, Sector 38 Gurugram India'\n",
    "s4 = '19 Sector 15 I Road, Gurgaon, Haryana, 122001 Sector 15, Part 1 Gurugram India'\n",
    "s5 ='Gurugram Wapiti Enclave, Gurgaon, Haryana, 122001 Wapiti Enclave, Sector 33 Gurugram India'\n",
    "s6 = 'Chennai Korattur, Tamil Nadu, 600080 Korattur, Kamaraj Nagar Chennai India'\n",
    "s7 = 'Menambedu Road, Chennai Mannurpet, Tamil Nadu, 600098 Mannurpet, Korattur Chennai India'\n",
    "s8 = '5-7/A Spartan Nagar 1st Street, Chennai, Tamil Nadu, 600050 TS Krishna Nagar, Mogappair Chennai India'\n",
    "s9 = 'Olympic Colony Street, Chennai Padi, Tamil Nadu, 600050 Padi, Olympic Nagar Chennai India'\n",
    "s10 = 'Chennai Mannurpet, Tamil Nadu, 600098 Mannurpet, Korattur Chennai India'"
   ]
  },
  {
   "cell_type": "code",
   "execution_count": null,
   "metadata": {},
   "outputs": [],
   "source": [
    "df_stat = pd.DataFrame({'address':[s1,s3,s4,s5,s6,s7,s8,s9,s10]})"
   ]
  },
  {
   "cell_type": "markdown",
   "metadata": {},
   "source": [
    "## Plotting the locations of all Gurugram stationary devices"
   ]
  },
  {
   "cell_type": "code",
   "execution_count": null,
   "metadata": {
    "scrolled": true
   },
   "outputs": [],
   "source": [
    "gr_dev = ['S1','S3','S4','S5']\n",
    "init_map = f.Map(title = 'Gurugram Stationary objects',zoom_start=14,location = latlog['S5'])\n",
    "\n",
    "for z , (device_id , (lat,log)) in enumerate(latlog.items()):\n",
    "    if device_id in gr_dev:\n",
    "        popup = f.Popup(df_stat.address.loc[z], max_width=1000)\n",
    "        \n",
    "        #Plotting the Marker for each stations\n",
    "        f.CircleMarker(\n",
    "        location = [lat, log],\n",
    "            radius=10,\n",
    "            popup=popup,\n",
    "            fill=True,\n",
    "            color='Blue',\n",
    "            fill_color='Yellow',\n",
    "            fill_opacity=0.4\n",
    "            ).add_to(init_map) \n",
    "init_map"
   ]
  },
  {
   "cell_type": "markdown",
   "metadata": {},
   "source": [
    "## To check address click on the marker"
   ]
  },
  {
   "cell_type": "markdown",
   "metadata": {},
   "source": [
    "## Plotting the locations of all Chennai stationary devices"
   ]
  },
  {
   "cell_type": "code",
   "execution_count": null,
   "metadata": {},
   "outputs": [],
   "source": [
    "ch_dev = ['S6','S7','S8','S9','S10']\n",
    "\n",
    "init_map = f.Map(zoom_start=14,width=800,height=400,location = latlog['S6'])\n",
    "init_map\n",
    "\n",
    "for  z,( device_id , (lat,log)) in enumerate(latlog.items()):\n",
    "    if device_id in ch_dev:\n",
    "        popup = f.Popup( df_stat.address.loc[z], max_width=1000)\n",
    "        f.CircleMarker(\n",
    "        location = [lat, log],\n",
    "            radius=7,\n",
    "            popup=popup,\n",
    "            fill=True,\n",
    "            color='Blue',\n",
    "            fill_color='Yellow',\n",
    "            fill_opacity=0.6\n",
    "            ).add_to(init_map) \n",
    "init_map\n",
    "# To check address click on the marker"
   ]
  },
  {
   "cell_type": "markdown",
   "metadata": {},
   "source": [
    "## Plotting the temperature curve of gurugram stationary devices"
   ]
  },
  {
   "cell_type": "code",
   "execution_count": null,
   "metadata": {},
   "outputs": [],
   "source": [
    "energy_data = go.Scatter(x=raw_data[raw_data.device_id == 'S1'].timestamp , \n",
    "                         y=raw_data[raw_data.device_id == 'S1'].temperature)\n",
    "\n",
    "layout = go.Layout(title='Temperature at {}'.format(df_stat.address.loc[0].split(',')[0]), xaxis = dict(title='Date'), yaxis=dict(title='Temperature'))\n",
    "\n",
    "fig = go.Figure(data=[energy_data],layout=layout)\n",
    "\n",
    "iplot(fig)"
   ]
  },
  {
   "cell_type": "code",
   "execution_count": null,
   "metadata": {},
   "outputs": [],
   "source": [
    "energy_data = go.Scatter(x=raw_data[raw_data.device_id == 'S3'].timestamp , \n",
    "                         y=raw_data[raw_data.device_id == 'S3'].temperature)\n",
    "\n",
    "layout = go.Layout(title='Temperature at {}'.format(df_stat.address.loc[1].split(',')[0]), xaxis = dict(title='Date'), yaxis=dict(title='Temperature'))\n",
    "\n",
    "fig = go.Figure(data=[energy_data],layout=layout)\n",
    "\n",
    "iplot(fig)"
   ]
  },
  {
   "cell_type": "code",
   "execution_count": null,
   "metadata": {},
   "outputs": [],
   "source": [
    "energy_data = go.Scatter(x=raw_data[raw_data.device_id == 'S4'].timestamp , \n",
    "                         y=raw_data[raw_data.device_id == 'S4'].temperature)\n",
    "\n",
    "layout = go.Layout(title='Temperature at {}'.format(df_stat.address.loc[2].split(',')[0]), xaxis = dict(title='Date'), yaxis=dict(title='Temperature'))\n",
    "\n",
    "fig = go.Figure(data=[energy_data],layout=layout)\n",
    "\n",
    "iplot(fig)\n"
   ]
  },
  {
   "cell_type": "code",
   "execution_count": null,
   "metadata": {},
   "outputs": [],
   "source": [
    "energy_data = go.Scatter(x=raw_data[raw_data.device_id == 'S5'].timestamp , \n",
    "                         y=raw_data[raw_data.device_id == 'S5'].temperature)\n",
    "\n",
    "layout = go.Layout(title='Temperature at {}'.format(df_stat.address.loc[3].split(',')[0]), xaxis = dict(title='Date'), yaxis=dict(title='Temperature'))\n",
    "\n",
    "fig = go.Figure(data=[energy_data],layout=layout)\n",
    "\n",
    "iplot(fig)"
   ]
  },
  {
   "cell_type": "markdown",
   "metadata": {},
   "source": [
    "## Creating a new dataset from extracting information"
   ]
  },
  {
   "cell_type": "code",
   "execution_count": null,
   "metadata": {},
   "outputs": [],
   "source": [
    "x = ['S1','S3','S4','S5','S6','S7','S8','S9','S10']\n",
    "x1 = ['S1','S3','S4','S5']\n",
    "x2 = ['S6','S7','S8','S9','S10']\n",
    "for j,i in enumerate(x):\n",
    "    df_stat.loc[j,'Device_id'] = i\n",
    "    df_stat.loc[j,'Temperature_Avg'] = raw_data[raw_data.device_id == i].temperature.mean()\n",
    "    df_stat.loc[j,'Temperature_Min'] = raw_data[raw_data.device_id == i].temperature.min()\n",
    "    df_stat.loc[j,'Temperature_Max'] = raw_data[raw_data.device_id == i].temperature.max()\n",
    "df_stat"
   ]
  },
  {
   "cell_type": "code",
   "execution_count": null,
   "metadata": {},
   "outputs": [],
   "source": [
    "df_stat.iloc[:4,:].loc[:,['Temperature_Avg','Temperature_Min','Temperature_Max',]]"
   ]
  },
  {
   "cell_type": "code",
   "execution_count": null,
   "metadata": {},
   "outputs": [],
   "source": [
    "df_stat.iloc[:4,:].loc[:,['Temperature_Avg','Temperature_Min','Temperature_Max',]].plot()\n",
    "plt.title('Gurugram Temperature')\n",
    "plt.xlabel(\"device_id's\")\n",
    "plt.ylabel('Temperature')\n",
    "plt.show()"
   ]
  },
  {
   "cell_type": "markdown",
   "metadata": {},
   "source": [
    "## Plotting the relation between Temperature and humidity of stationary devices"
   ]
  },
  {
   "cell_type": "code",
   "execution_count": null,
   "metadata": {},
   "outputs": [],
   "source": [
    "energy_data = go.Scatter(x=raw_data[raw_data.device_id == 'S1'].timestamp , \n",
    "                         y=raw_data[raw_data.device_id == 'S1'].humidity,name='Humidity')\n",
    "\n",
    "energy_data2 = go.Scatter(x=raw_data[raw_data.device_id == 'S1'].timestamp , \n",
    "                          y=raw_data[raw_data.device_id == 'S1'].temperature,name='Temperature')\n",
    "\n",
    "layout = go.Layout(title='Humidity at {}'.format(df_stat.address.loc[0].split(',')[0]), xaxis = dict(title='Date'), yaxis=dict(title='Humidity'))\n",
    "\n",
    "fig = go.Figure(data=[energy_data,energy_data2],layout=layout)\n",
    "\n",
    "iplot(fig)"
   ]
  },
  {
   "cell_type": "code",
   "execution_count": null,
   "metadata": {},
   "outputs": [],
   "source": [
    "energy_data = go.Scatter(x=raw_data[raw_data.device_id == 'S3'].timestamp , \n",
    "                         y=raw_data[raw_data.device_id == 'S3'].humidity,name='Humidity')\n",
    "\n",
    "energy_data2 = go.Scatter(x=raw_data[raw_data.device_id == 'S3'].timestamp , \n",
    "                          y=raw_data[raw_data.device_id == 'S3'].temperature,name='Temperature')\n",
    "\n",
    "layout = go.Layout(title='Humidity at {}'.format(df_stat.address.loc[1].split(',')[0]), xaxis = dict(title='Date'), yaxis=dict(title='Humidity'))\n",
    "\n",
    "fig = go.Figure(data=[energy_data,energy_data2],layout=layout)\n",
    "\n",
    "iplot(fig)"
   ]
  },
  {
   "cell_type": "markdown",
   "metadata": {},
   "source": [
    "### from 8th May 2019 - 15th May 2019 devices don't send any reading"
   ]
  },
  {
   "cell_type": "code",
   "execution_count": null,
   "metadata": {},
   "outputs": [],
   "source": [
    "energy_data = go.Scatter(x=raw_data[raw_data.device_id == 'S4'].timestamp , \n",
    "                         y=raw_data[raw_data.device_id == 'S4'].humidity,legendgroup=True,name='Humidity')\n",
    "\n",
    "\n",
    "energy_data2 = go.Scatter(x=raw_data[raw_data.device_id == 'S4'].timestamp , \n",
    "                          y=raw_data[raw_data.device_id == 'S4'].temperature,legendgroup=True,name='Temperature')\n",
    "\n",
    "layout = go.Layout(title='Humidity at {}'.format(df_stat.address.loc[2].split(',')[0]), xaxis = dict(title='Date'), yaxis=dict(title='Humidity'))\n",
    "\n",
    "fig = go.Figure(data=[energy_data,energy_data2],layout=layout)\n",
    "\n",
    "iplot(fig)"
   ]
  },
  {
   "cell_type": "code",
   "execution_count": null,
   "metadata": {},
   "outputs": [],
   "source": [
    "energy_data = go.Scatter(x=raw_data[raw_data.device_id == 'S5'].timestamp , \n",
    "                         y=raw_data[raw_data.device_id == 'S5'].humidity,name='Humidity')\n",
    "\n",
    "energy_data2 = go.Scatter(x=raw_data[raw_data.device_id == 'S5'].timestamp , \n",
    "                          y=raw_data[raw_data.device_id == 'S5'].temperature,name='Temperature')\n",
    "\n",
    "layout = go.Layout(title='Humidity at {}'.format(df_stat.address.loc[3].split(',')[0]), xaxis = dict(title='Date'), yaxis=dict(title='Humidity'))\n",
    "\n",
    "fig = go.Figure(data=[energy_data,energy_data2],layout=layout)\n",
    "\n",
    "iplot(fig)"
   ]
  },
  {
   "cell_type": "markdown",
   "metadata": {},
   "source": [
    "## Calculating the location/Position of Mobile devices"
   ]
  },
  {
   "cell_type": "code",
   "execution_count": null,
   "metadata": {},
   "outputs": [],
   "source": [
    "def getlatlog_M():\n",
    "    \n",
    "    latlog_M = {}\n",
    "\n",
    "    t1 = raw_data.loc[raw_data.loc[:,'device_id'] == 'M1' , 'longitude'].between(50,100)\n",
    "    t2 = raw_data.loc[raw_data.loc[:,'device_id'] == 'M1' , 'latitude'].between(25,28.5)\n",
    "                    # 13838 ,   # 13421 \n",
    "    latlog_M['M1'] = (raw_data.loc[raw_data.loc[:,'device_id'] == 'M1' , 'latitude'].loc[t2].sample(13421).values,\n",
    "                  raw_data.loc[raw_data.loc[:,'device_id'] == 'M1' , 'longitude'].loc[t1].values,\n",
    "                 raw_data.loc[raw_data.loc[:,'device_id'] == 'M1' , 'latitude'].loc[t2].sample(13421).index)\n",
    "\n",
    "\n",
    "    t1 = raw_data.loc[raw_data.loc[:,'device_id'] == 'M2' , 'longitude'].between(50,100)\n",
    "    t2 = raw_data.loc[raw_data.loc[:,'device_id'] == 'M2' , 'latitude'].between(25,30) \n",
    "\n",
    "                    # 674   601\n",
    "    latlog_M['M2'] = (raw_data.loc[raw_data.loc[:,'device_id'] == 'M2' , 'latitude'].loc[t2].sample(601).values\n",
    "                  ,raw_data.loc[raw_data.loc[:,'device_id'] == 'M2' , 'longitude'].loc[t1].values\n",
    "                  ,raw_data.loc[raw_data.loc[:,'device_id'] == 'M2' , 'longitude'].loc[t2].sample(601).index)\n",
    "\n",
    "    for i in ['M3','M4','M5','M6']:\n",
    "        t1 = raw_data.loc[raw_data.loc[:,'device_id'] == i , 'longitude'].between(50,100)\n",
    "        t2 = raw_data.loc[raw_data.loc[:,'device_id'] == i , 'latitude'].between(10,40) \n",
    "\n",
    "        latlog_M[i] = (raw_data.loc[raw_data.loc[:,'device_id'] == i , 'latitude'].loc[t2].values\n",
    "                  ,raw_data.loc[raw_data.loc[:,'device_id'] == i , 'longitude'].loc[t1].values\n",
    "                  ,raw_data.loc[raw_data.loc[:,'device_id'] == i , 'longitude'].loc[t2].index)\n",
    "    \n",
    "    \n",
    "    return latlog_M"
   ]
  },
  {
   "cell_type": "code",
   "execution_count": null,
   "metadata": {},
   "outputs": [],
   "source": [
    "latlog_M = getlatlog_M()\n",
    "latlog_M"
   ]
  },
  {
   "cell_type": "markdown",
   "metadata": {},
   "source": [
    "# Plotting the HeatMap of Humidity and Temperature"
   ]
  },
  {
   "cell_type": "code",
   "execution_count": null,
   "metadata": {},
   "outputs": [],
   "source": [
    "def generateBaseMap(default_location=[28.42, 77.085880], default_zoom_start=13):\n",
    "    base_map = f.Map(location=default_location, control_scale=True, zoom_start=default_zoom_start)\n",
    "    return base_map"
   ]
  },
  {
   "cell_type": "markdown",
   "metadata": {},
   "source": [
    "## Humidity at M1"
   ]
  },
  {
   "cell_type": "code",
   "execution_count": null,
   "metadata": {},
   "outputs": [],
   "source": [
    "data = list(zip(latlog_M['M1'][0] , latlog_M['M1'][1] , raw_data.iloc[latlog_M['M1'][2]].humidity.values))\n",
    "\n",
    "base_map = generateBaseMap()\n",
    "HeatMap(data = data,radius=10, max_zoom=13).add_to(base_map)\n",
    "base_map"
   ]
  },
  {
   "cell_type": "markdown",
   "metadata": {},
   "source": [
    "## Temperature at M1"
   ]
  },
  {
   "cell_type": "code",
   "execution_count": null,
   "metadata": {},
   "outputs": [],
   "source": [
    "data = list(zip(latlog_M['M1'][0] , latlog_M['M1'][1] , raw_data.iloc[latlog_M['M1'][2]].temperature.values))\n",
    "\n",
    "base_map = generateBaseMap()\n",
    "HeatMap(data = data,radius=10, max_zoom=13).add_to(base_map)\n",
    "base_map"
   ]
  },
  {
   "cell_type": "markdown",
   "metadata": {},
   "source": [
    "## Humidity at M2"
   ]
  },
  {
   "cell_type": "code",
   "execution_count": null,
   "metadata": {},
   "outputs": [],
   "source": [
    "data = list(zip(latlog_M['M2'][0] , latlog_M['M2'][1] , raw_data.iloc[latlog_M['M2'][2]].humidity.values))\n",
    "\n",
    "base_map = generateBaseMap()\n",
    "HeatMap(data = data,radius=10, max_zoom=13).add_to(base_map)\n",
    "base_map"
   ]
  },
  {
   "cell_type": "markdown",
   "metadata": {},
   "source": [
    "## Temperature at M2 "
   ]
  },
  {
   "cell_type": "code",
   "execution_count": null,
   "metadata": {
    "scrolled": true
   },
   "outputs": [],
   "source": [
    "\n",
    "data = list(zip(latlog_M['M2'][0] , latlog_M['M2'][1] , raw_data.iloc[latlog_M['M2'][2]].temperature.values))\n",
    "\n",
    "base_map = generateBaseMap()\n",
    "HeatMap(data = data,radius=10, max_zoom=13).add_to(base_map)\n",
    "base_map\n"
   ]
  },
  {
   "cell_type": "code",
   "execution_count": null,
   "metadata": {},
   "outputs": [],
   "source": [
    "tem = pd.DataFrame()\n",
    "for i in gr_dev:  # appending stationary device dataset\n",
    "    tem = tem.append(raw_data[raw_data.device_id == i])"
   ]
  },
  {
   "cell_type": "code",
   "execution_count": null,
   "metadata": {},
   "outputs": [],
   "source": [
    "for i in ['M1','M2','M3','M4']:\n",
    "    tem = tem.append(raw_data[raw_data.device_id == i])"
   ]
  },
  {
   "cell_type": "markdown",
   "metadata": {},
   "source": [
    "## PM10 for gurugram"
   ]
  },
  {
   "cell_type": "code",
   "execution_count": null,
   "metadata": {
    "scrolled": true
   },
   "outputs": [],
   "source": [
    "data = list(zip(tem.latitude.tolist() , tem.longitude.tolist() , tem.pm10.tolist()))\n",
    "base_map = generateBaseMap()\n",
    "HeatMap(data = data,radius=10, max_zoom=13).add_to(base_map)\n",
    "base_map\n"
   ]
  },
  {
   "cell_type": "markdown",
   "metadata": {},
   "source": [
    "## PM2.5 for gurugram"
   ]
  },
  {
   "cell_type": "code",
   "execution_count": null,
   "metadata": {},
   "outputs": [],
   "source": [
    "data = list(zip(latlog_M['M2'][0] , latlog_M['M2'][1] , raw_data.iloc[latlog_M['M2'][2]].temperature.values))\n",
    "\n",
    "base_map = generateBaseMap()\n",
    "HeatMap(data = data,radius=10, max_zoom=13).add_to(base_map)\n",
    "base_map"
   ]
  }
 ],
 "metadata": {
  "kernelspec": {
   "display_name": "Python 3",
   "language": "python",
   "name": "python3"
  },
  "language_info": {
   "codemirror_mode": {
    "name": "ipython",
    "version": 3
   },
   "file_extension": ".py",
   "mimetype": "text/x-python",
   "name": "python",
   "nbconvert_exporter": "python",
   "pygments_lexer": "ipython3",
   "version": "3.6.5"
  }
 },
 "nbformat": 4,
 "nbformat_minor": 2
}
