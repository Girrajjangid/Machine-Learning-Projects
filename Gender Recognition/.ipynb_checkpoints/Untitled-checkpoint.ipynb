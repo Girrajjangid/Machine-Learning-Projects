{
 "cells": [
  {
   "cell_type": "code",
   "execution_count": 1,
   "metadata": {},
   "outputs": [],
   "source": [
    "import numpy as np\n",
    "import pandas as pd\n",
    "import matplotlib.pyplot as plt\n",
    "import seaborn as sns"
   ]
  },
  {
   "cell_type": "code",
   "execution_count": null,
   "metadata": {},
   "outputs": [],
   "source": [
    "train = pd.read_csv('../../DataSets/genderprediction/UserIdToGenderTrain.csv')\n",
    "print(train.shape)  "
   ]
  },
  {
   "cell_type": "code",
   "execution_count": null,
   "metadata": {},
   "outputs": [],
   "source": [
    "print(\"Male percentage :\",(train.gender.value_counts()[0] / train.shape[0])*100)\n",
    "print(\"Male percentage :\",(train.gender.value_counts()[1] / train.shape[0])*100)"
   ]
  },
  {
   "cell_type": "code",
   "execution_count": null,
   "metadata": {},
   "outputs": [],
   "source": [
    "paths = []\n",
    "for i in range(12):\n",
    "    path = '../../DataSets/genderprediction/useridtourl/part-'+str(i).zfill(5)\n",
    "    l = set()\n",
    "    for j,line in enumerate(open(path)):\n",
    "        if not j:\n",
    "            continue\n",
    "        l.add(tuple(line[:-1].split(',',1)))\n",
    "    part_00 = pd.DataFrame(np.array([*l]) , columns = ['userid' , 'userurl'])\n",
    "    paths.append(part_00)\n",
    "    del l \n",
    "    "
   ]
  },
  {
   "cell_type": "code",
   "execution_count": null,
   "metadata": {},
   "outputs": [],
   "source": [
    "len(paths)  # 24,50,535"
   ]
  },
  {
   "cell_type": "code",
   "execution_count": null,
   "metadata": {},
   "outputs": [],
   "source": [
    "count_train_id = 0\n",
    "count_test_id = 0\n",
    "\n",
    "for i in paths:\n",
    "    count_train_id+=train.userid.isin(i.userid).sum()\n",
    "    count_test_id+=test.userid.isin(i.userid).sum()\n",
    "print(\"Training ===> from these {0:,} we have total {1:,} id's visitors. \".format(train.shape[0],count_train_id))\n",
    "print(\"Testing  ===> from these {0:,} we have total {1:,} id's visitors. \".format(test.shape[0],count_test_id))"
   ]
  },
  {
   "cell_type": "code",
   "execution_count": 2,
   "metadata": {},
   "outputs": [],
   "source": [
    "df = pd.DataFrame()\n",
    "path = '../../DataSets/genderprediction/Urls_data.txt'\n",
    "l = []\n",
    "for i,line in enumerate(open(path,encoding=\"utf8\")):\n",
    "     l.append(line[:-1])\n",
    "df = df.append([eval(l[i]) for i in range(len(l))] , ignore_index = True)\n",
    "df.to_csv('Urls_data.csv')\n",
    "del l "
   ]
  },
  {
   "cell_type": "code",
   "execution_count": 7,
   "metadata": {},
   "outputs": [
    {
     "name": "stdout",
     "output_type": "stream",
     "text": [
      "(109444, 9)\n"
     ]
    }
   ],
   "source": [
    "print(df.shape)"
   ]
  },
  {
   "cell_type": "code",
   "execution_count": 8,
   "metadata": {},
   "outputs": [
    {
     "data": {
      "text/plain": [
       "Index(['alt_titles', 'brand', 'description', 'entities', 'id', 'link',\n",
       "       'long_description', 'tags', 'title'],\n",
       "      dtype='object')"
      ]
     },
     "execution_count": 8,
     "metadata": {},
     "output_type": "execute_result"
    }
   ],
   "source": [
    "df.columns"
   ]
  },
  {
   "cell_type": "code",
   "execution_count": 9,
   "metadata": {},
   "outputs": [
    {
     "name": "stdout",
     "output_type": "stream",
     "text": [
      "<class 'pandas.core.frame.DataFrame'>\n",
      "RangeIndex: 109444 entries, 0 to 109443\n",
      "Data columns (total 9 columns):\n",
      "alt_titles          10 non-null object\n",
      "brand               109022 non-null object\n",
      "description         90019 non-null object\n",
      "entities            103548 non-null object\n",
      "id                  109444 non-null object\n",
      "link                109444 non-null object\n",
      "long_description    87241 non-null object\n",
      "tags                67578 non-null object\n",
      "title               109444 non-null object\n",
      "dtypes: object(9)\n",
      "memory usage: 7.5+ MB\n"
     ]
    }
   ],
   "source": [
    "df.info()"
   ]
  },
  {
   "cell_type": "code",
   "execution_count": 18,
   "metadata": {},
   "outputs": [
    {
     "name": "stdout",
     "output_type": "stream",
     "text": [
      "TOI                        18491\n",
      "ET                         12352\n",
      "Times of India             10637\n",
      "NAVBHARATTIMES              7669\n",
      "TIMES OF INDIA              5008\n",
      "MT                          2115\n",
      "The Times Of India          2080\n",
      "Times Now                   1544\n",
      "MAHARASHTRATIMES            1400\n",
      "Mirror                      1334\n",
      "Vijay Karnataka             1154\n",
      "The Economic Times          1132\n",
      "EI Samay                    1070\n",
      "The Quint                   1068\n",
      "Navbharat Times             1056\n",
      "Gadgetsnow                   964\n",
      "Sambad Odia                  907\n",
      "Samayam Telugu               900\n",
      "The Quint Hindi              881\n",
      "toi                          864\n",
      "Dainik Prabhat Marathi       824\n",
      "AsiaNet News Telugu          762\n",
      "Malayalam Express            759\n",
      "Vartha Bharati               752\n",
      "Samayam Tamil                715\n",
      "Times Now Hindi              697\n",
      "Suvarna News Kannada         695\n",
      "kolkata24x7 Bengali          686\n",
      "Kannada Dunia Kannada        648\n",
      "Maharashtra Times            643\n",
      "                           ...  \n",
      "Telugu Mirchi                 17\n",
      "Khas khabar Hindi             17\n",
      "Nilkantho                     16\n",
      "Youngisthan                   15\n",
      "Fanport Malayalam             11\n",
      "Lifeberrys                    11\n",
      "National TV Marathi           10\n",
      "PC-Tablet                     10\n",
      "business-khas-khabar          10\n",
      "MediaoneTV Malayalam          10\n",
      "CNMSports - Hindi              9\n",
      "Youngisthan Hindi              9\n",
      "Ganesha Speaks Gujarati        8\n",
      "Janman Hindi                   8\n",
      "ANN News Hindi                 8\n",
      "CNMSports                      6\n",
      "Maxabout                       6\n",
      "Santa Banta Hindi              5\n",
      "News Next One Asamiya          3\n",
      "Astrosaathi Hindi              3\n",
      "Azabgazab Hindi                3\n",
      "Rochak Khabare Hindi           2\n",
      "InvestmentGuruIndia            2\n",
      "TheIndianIdiot                 1\n",
      "Mahanagar24x7 Bengali          1\n",
      "The Quint Neon                 1\n",
      "Jeeva News Malayalam           1\n",
      "Outlook Money                  1\n",
      "Deutsche Welle                 1\n",
      "Gyanpunji Punjabi              1\n",
      "Name: brand, Length: 229, dtype: int64\n",
      "229\n"
     ]
    }
   ],
   "source": [
    "print(df.brand.value_counts())\n",
    "print(df.brand.nunique())"
   ]
  },
  {
   "cell_type": "code",
   "execution_count": 37,
   "metadata": {},
   "outputs": [
    {
     "data": {
      "text/plain": [
       "(Times Now, ctn_trusted, lang-english, top-news)                                                                                                                                                                                                                                                                        1544\n",
       "(Mirror, ctn_trusted, lang-english, top-news)                                                                                                                                                                                                                                                                           1334\n",
       "(The Times Of India, ctn_trusted, lang-english, india)                                                                                                                                                                                                                                                                  1230\n",
       "(Sambad Odia, ctn_trusted, lang-odia, top-news)                                                                                                                                                                                                                                                                          907\n",
       "(Dainik Prabhat Marathi, ctn_trusted, lang-marathi, top-news)                                                                                                                                                                                                                                                            820\n",
       "(Malayalam Express, ctn_trusted, lang-malayalam, top-news)                                                                                                                                                                                                                                                               759\n",
       "(AsiaNet News Telugu, ctn_trusted, lang-telugu, top-news)                                                                                                                                                                                                                                                                759\n",
       "(Times Now Hindi, ctn_trusted, lang-hindi, top-news)                                                                                                                                                                                                                                                                     697\n",
       "(kolkata24x7 Bengali, ctn_trusted, lang-bengali, top-news)                                                                                                                                                                                                                                                               685\n",
       "(The Quint Hindi, ctn_trusted, lang-hindi, top-news)                                                                                                                                                                                                                                                                     676\n",
       "(Suvarna News Kannada, ctn_trusted, lang-kannada, top-news)                                                                                                                                                                                                                                                              671\n",
       "(Kannada Dunia Kannada, ctn_trusted, lang-kannada, top-news)                                                                                                                                                                                                                                                             646\n",
       "(video,)                                                                                                                                                                                                                                                                                                                 636\n",
       "(Vijay Karnataka, ctn_trusted, lang-kannada, top-news)                                                                                                                                                                                                                                                                   629\n",
       "(Samayam Telugu, ctn_trusted, lang-telugu, top-news)                                                                                                                                                                                                                                                                     621\n",
       "(SportsKeeda, ctn_trusted, lang-english, sports)                                                                                                                                                                                                                                                                         574\n",
       "(Samayam Tamil, ctn_trusted, lang-tamil, top-news)                                                                                                                                                                                                                                                                       508\n",
       "(The Economic Times, ctn_trusted, lang-english, business)                                                                                                                                                                                                                                                                474\n",
       "(Pradhana Vartha Malayalam, ctn_trusted, lang-malayalam, top-news)                                                                                                                                                                                                                                                       437\n",
       "(The Quint, ctn_trusted, lang-english, top-news)                                                                                                                                                                                                                                                                         428\n",
       "(toi, ctn_trusted, lang-english, entertainment)                                                                                                                                                                                                                                                                          418\n",
       "(Rozana Spokesman Punjabi, ctn_trusted, lang-punjabi, top-news)                                                                                                                                                                                                                                                          410\n",
       "(The Economic Times, lang-english, india)                                                                                                                                                                                                                                                                                395\n",
       "(Kanak News Odia, ctn_trusted, lang-odia, top-news)                                                                                                                                                                                                                                                                      393\n",
       "(International Business Times, lang-english, top-news)                                                                                                                                                                                                                                                                   384\n",
       "(Vartha Bharati, lang-kannada, regional)                                                                                                                                                                                                                                                                                 380\n",
       "(toi, ctn_trusted, lang-english, news)                                                                                                                                                                                                                                                                                   374\n",
       "(EI Samay, ctn_trusted, lang-bengali, top-news)                                                                                                                                                                                                                                                                          373\n",
       "(nbt, ctn_trusted, lang-hindi, news)                                                                                                                                                                                                                                                                                     369\n",
       "(Aaj Bikel Bengali, ctn_trusted, lang-bengali, top-news)                                                                                                                                                                                                                                                                 347\n",
       "                                                                                                                                                                                                                                                                                                                        ... \n",
       "(Haryana TET result 2019 announced, haryana tet result 2019, Haryana Teacher Eligibility Test result 2019, Haryana Teacher Eligibility Test result, Haryana Teacher Eligibility Test, Haryana)                                                                                                                             1\n",
       "(city, hyderabad, Hyderabad Holi revelry, Holi revelry in Hyderabad, Alwal, 6-year-old raped in Hyderabad, City, )                                                                                                                                                                                                         1\n",
       "(Maoist,)                                                                                                                                                                                                                                                                                                                  1\n",
       "(stamp duty, Register, panaji, land registration, Goa, article)                                                                                                                                                                                                                                                            1\n",
       "(city, patna, Lok Sabha election 2019 Bihar, Bihar polls 2019, Bihar Lok Sabha schedule, Bihar Lok Sabha Polls 2019, bihar lok sabha election date, Bihar Lok Sabha election 2019, Bihar Lok Sabha election, Bihar Elections 2019, Bihar Election results 2019, Bihar, Patna, article)                                     1\n",
       "(Prime Minister of India, Narendra Modi, lok sabha, greater noida)                                                                                                                                                                                                                                                         1\n",
       "(Ram Madhav, North-East Democratic Alliance, Himanta Biswa Sarma, Election Committee, amit shah, article)                                                                                                                                                                                                                  1\n",
       "(Central Board of Secondary Education, CBSE Class 12 Accounts paper error, CBSE Class 12 Accounts paper 2019, CBSE Class 12 accounts paper, CBSE Accounts paper error grace marks, News, article)                                                                                                                          1\n",
       "(india, anti-satellite technology will be deterrent in event of space war: experts, Space war, Narendra Modi, isro, Indian Space Research Organisation, DRDO, Defence Research and Development Organisation, anti satellite missile, Bundles, )                                                                            1\n",
       "(terrorism, Prime Minister of Pakistan, new zealand mosque attack, Islamophobia, Imran Khan, Al Noor Mosque, Pakistan, article)                                                                                                                                                                                            1\n",
       "(Navodaya viyalaya admission last date, Navodaya Vidyalaya admission for class 6, navodaya vidyalaya admission, Navodaya school admission last date, Navodaya school admission 2019, Navodaya school admission, jawahar navodaya vidyalaya)                                                                                1\n",
       "(Theresa May, Northern Ireland, european union, brexit vote, Brexit)                                                                                                                                                                                                                                                       1\n",
       "(Yamunanagar News, yamunanagar, haryana news, haryana crime news, Haryana)                                                                                                                                                                                                                                                 1\n",
       "(GATE IIT madras 2019 answer key, gate iit 2019, GATE answer key 2019, GATE 2019 Answer Key, answer key for gate 2019, News, article)                                                                                                                                                                                      1\n",
       "(University of Delhi, secunderabad, Mahesh Sharma, Chauhan, Bulandshahr district, Buddh International Circuit, Mumbai, article)                                                                                                                                                                                            1\n",
       "(Wing Commander (WC) Abhinandan Varthaman, Wing commander (rank), Schutzstaffel, Anil Vij, Ambala Cantonment, Abhinandan Dwar at Ambala cantt)                                                                                                                                                                             1\n",
       "(life-style, fashion, celeb-style, Kareena Kapoor sexy, kareena kapoor hot pics, Kareena Kapoor hot, kareena kapoor animal print, Kareena Kapoor)                                                                                                                                                                          1\n",
       "(telecom news, BSNL Gujarat, BSNL 4G Volte, BSNL 4G, BSNL, Bharat Sanchar Nigam Limited)                                                                                                                                                                                                                                   1\n",
       "(Punjab Public Service Commission (PPSC), Punjab Public Service commission, Punjab (region), PPSC Various Vacancies Online Form 2019, PPSC Principal vacancies, PPSC Head master vacancies)                                                                                                                                1\n",
       "(Uttar Pradesh Higher Education Service Commission, UPHESC recruitment 2018, UPHESC recruitment, UPHESC Assistant Professor recruitment 2018, UPHESC Assistant Professor recruitment, UPHESC Assistant Professor Admit Card 2018, UPHESC Assistant Professor Admit Card 2016, UPHESC Assistant Professor Admit Card)       1\n",
       "(entertainment, hindi, bollywood, news, Sanjay Leela Bhansali, Priyanka Chopra, Gangubai, Bollywood, Bajirao Mastani)                                                                                                                                                                                                      1\n",
       "(Suresh Raina, Sam Billings, Mahendra Singh Dhoni, Karn Sharma, Harbhajan Singh, Deepak Chahar, Chennai Super Kings, Ambati Rayudu, Top Stories, article)                                                                                                                                                                  1\n",
       "(tv, news, hindi, Yeh Ishq Nahee Aasan, Woh Apna Sa, vikas gupta, sara khan, Sapna Babul Ka... Bidaai, Ankit Gera)                                                                                                                                                                                                         1\n",
       "(virtual reality, Technologies, Infosys, Indo-Asian News Service, artificial intelligence)                                                                                                                                                                                                                                 1\n",
       "(vvpat sc, vvpat petition, VVPAT EVM, VVPAT, evm hacking)                                                                                                                                                                                                                                                                  1\n",
       "(SUPERTECH PROJECTS, Supertech, Project, H-Rera, Gurgaon, article)                                                                                                                                                                                                                                                         1\n",
       "(Wonders of World park, SDMC, Sarai Kale Khan, oppose, Inauguration, councillor, Delhi, article)                                                                                                                                                                                                                           1\n",
       "(Xi Jinping, rome, Italy, infrastructure, Belt and Road accord, Europe, article)                                                                                                                                                                                                                                           1\n",
       "(Wayanad district, thiruvananthapuram, Poll, Palakkad, Oommen Chandy, lok sabha, Kerala Pradesh Congress Committee, election)                                                                                                                                                                                              1\n",
       "(National Institutes of Health, national center for biotechnology information, keto diet for indians, keto diet disadvantages, keto diet benefits, keto diet, indian keto diet, how to follow keto diet)                                                                                                                   1\n",
       "Name: tags, Length: 11536, dtype: int64"
      ]
     },
     "execution_count": 37,
     "metadata": {},
     "output_type": "execute_result"
    }
   ],
   "source": [
    "#np.linspace(1,109022, 10)\n",
    "#df.tags  list are unhashable\n",
    "(df.tags.map(lambda x : tuple(x) , na_action='ignore').value_counts())\n"
   ]
  },
  {
   "cell_type": "code",
   "execution_count": 40,
   "metadata": {},
   "outputs": [
    {
     "data": {
      "text/plain": [
       "(, How to hide private photos on Google Photos, )      2\n",
       "(, 9 cool YouTube features you may not know, )         1\n",
       "(, 10 most-followed Indians on Twitter in 2017, )      1\n",
       "(, Permanently erase data from an Android device, )    1\n",
       "(, How to change YouTube's white background, )         1\n",
       "(, Lava launches its most expensive smartphone, )      1\n",
       "(, OnePlus 5T review: The worthy heir apparent, )      1\n",
       "(,)                                                    1\n",
       "(, Use BHIM UPI payment feature in Paytm app, )        1\n",
       "Name: alt_titles, dtype: int64"
      ]
     },
     "execution_count": 40,
     "metadata": {},
     "output_type": "execute_result"
    }
   ],
   "source": [
    "(df.alt_titles.map(lambda x : tuple(x) , na_action='ignore').value_counts())"
   ]
  },
  {
   "cell_type": "code",
   "execution_count": null,
   "metadata": {},
   "outputs": [],
   "source": []
  }
 ],
 "metadata": {
  "kernelspec": {
   "display_name": "Python 3",
   "language": "python",
   "name": "python3"
  },
  "language_info": {
   "codemirror_mode": {
    "name": "ipython",
    "version": 3
   },
   "file_extension": ".py",
   "mimetype": "text/x-python",
   "name": "python",
   "nbconvert_exporter": "python",
   "pygments_lexer": "ipython3",
   "version": "3.6.5"
  }
 },
 "nbformat": 4,
 "nbformat_minor": 2
}
