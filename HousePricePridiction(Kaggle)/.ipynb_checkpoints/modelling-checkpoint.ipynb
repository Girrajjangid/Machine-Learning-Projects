{
 "cells": [
  {
   "cell_type": "code",
   "execution_count": null,
   "metadata": {},
   "outputs": [],
   "source": [
    "# import libararies\n",
    "import numpy       as np\n",
    "import pandas      as pd\n",
    "import matplotlib.pyplot as plt\n",
    "import seaborn     as sns\n",
    "import warnings\n",
    "warnings.filterwarnings('ignore')\n",
    "from collections import Counter\n",
    "import random as r\n",
    "from xgboost              import XGBRegressor\n",
    "from catboost             import CatBoostRegressor\n",
    "from sklearn.svm          import SVR\n",
    "from sklearn.ensemble     import RandomForestRegressor\n",
    "from sklearn.ensemble     import AdaBoostRegressor\n",
    "from sklearn.ensemble     import ExtraTreesRegressor \n",
    "from sklearn.ensemble     import GradientBoostingRegressor\n",
    "from sklearn.neighbors    import KNeighborsRegressor\n",
    "from sklearn.metrics      import r2_score, accuracy_score, mean_squared_error\n",
    "from sklearn.pipeline     import Pipeline\n",
    "from sklearn.model_selection import cross_val_score\n",
    "from sklearn.model_selection import KFold\n",
    "from sklearn.model_selection import RandomizedSearchCV\n",
    "from sklearn.preprocessing   import StandardScaler\n",
    "from sklearn.model_selection import train_test_split\n",
    "from sklearn.metrics import mean_squared_log_error\n",
    "import time\n",
    "from sklearn.model_selection import GridSearchCV\n",
    "from xgboost import plot_importance"
   ]
  },
  {
   "cell_type": "code",
   "execution_count": null,
   "metadata": {},
   "outputs": [],
   "source": [
    "sub_sam = pd.read_csv('F:/Books/Machine Learning/DataSets/house-prices-advanced-regression-technique/sample_submission.csv')\n",
    "\n",
    "raw_data = pd.read_csv('raw_data.csv')\n",
    "test_data = pd.read_csv('test_data.csv')\n",
    "raw_label = pd.read_csv('raw_label.csv')\n",
    "raw_data.drop(['Id'],axis=1,inplace=True)\n",
    "test_data.drop(['Id'],axis=1,inplace=True)"
   ]
  },
  {
   "cell_type": "code",
   "execution_count": null,
   "metadata": {},
   "outputs": [],
   "source": [
    "x_train, x_test, y_train, y_test = train_test_split(raw_data,\n",
    "                                                    raw_label,\n",
    "                                                   test_size=.25,\n",
    "                                                   random_state= 42,\n",
    "                                                   shuffle=True)"
   ]
  },
  {
   "cell_type": "code",
   "execution_count": null,
   "metadata": {},
   "outputs": [],
   "source": [
    "raw_data.shape , test_data.shape , raw_label.shape"
   ]
  },
  {
   "cell_type": "code",
   "execution_count": null,
   "metadata": {},
   "outputs": [],
   "source": [
    "raw_label"
   ]
  },
  {
   "cell_type": "code",
   "execution_count": null,
   "metadata": {},
   "outputs": [],
   "source": [
    "sc = StandardScaler()\n",
    "new_x_train = sc.fit_transform(x_train)\n",
    "new_x_test = sc.transform(x_test)"
   ]
  },
  {
   "cell_type": "code",
   "execution_count": null,
   "metadata": {},
   "outputs": [],
   "source": [
    "xgb_clf = XGBRegressor(objective='reg:squarederror')\n",
    "\n",
    "params = {'learning_rate':[0.1,0.08,0.05,0.01,0.001],\n",
    "         'gamma':[0.01,0.1,0.3,0.5,1,1.5,2],\n",
    "         'max_depth':[2,4,7,10],\n",
    "         'colsample_bytree':[0.3,0.6,0.8,1],\n",
    "         \"subsample\": [0.2, 0.4, 0.5, 0.6, 0.7],\n",
    "         \"reg_alpha\": [0, 0.5, 1],\n",
    "         \"reg_lambda\": [1, 1.5, 2, 3, 4.5],\n",
    "         \"min_child_weight\": [1, 3, 5, 7],\n",
    "         \"n_estimators\": [100, 250, 500, 1000]}\n",
    "\n",
    "xgb_rscv = RandomizedSearchCV(xgb_clf, param_distributions = params,\n",
    "                             cv = 7, verbose = 3, random_state = 40, n_jobs=-1)"
   ]
  },
  {
   "cell_type": "code",
   "execution_count": null,
   "metadata": {},
   "outputs": [],
   "source": [
    "model_xgb = xgb_rscv.fit(x_train,y_train)\n",
    "\n",
    "print(\"Best: %f using %s\" % (model_xgb.best_score_, model_xgb.best_params_))\n",
    "\n",
    "print(model_xgb.score(x_test,y_test))"
   ]
  },
  {
   "cell_type": "code",
   "execution_count": null,
   "metadata": {},
   "outputs": [],
   "source": [
    "impp = [101, 107,  23, 129,   3, 126,  16,  14,  99, 136, 138, 110, 100,\n",
    "            143,  24, 102, 132, 105,  21,  10,  11,  33,  17, 109, 134,   8,\n",
    "            127,  12,  19,  50, 128,   5,  32,  22,  59,  69,  20, 117, 139,\n",
    "             58,  76, 112, 144, 133,  15,  34,   7, 6]"
   ]
  },
  {
   "cell_type": "code",
   "execution_count": null,
   "metadata": {},
   "outputs": [],
   "source": [
    "best_params = {'colsample_bytree': 0.3,  # this I get after random search\n",
    "         'gamma': 1.5,\n",
    "         'learning_rate': 0.01,\n",
    "         'max_depth': 7,\n",
    "         'min_child_weight': 1,\n",
    "         'n_estimators': 1000,\n",
    "         'reg_alpha': 0,\n",
    "         'reg_lambda': 1.5,\n",
    "         'subsample': 0.4}\n",
    "\n",
    "model_xgb = XGBRegressor( objective='reg:squarederror',**best_params)\n",
    "model_xgb.fit(raw_data.iloc[:,impp],raw_label)\n",
    "y_pred = model_xgb.predict(test_data.iloc[:,impp])\n"
   ]
  },
  {
   "cell_type": "code",
   "execution_count": null,
   "metadata": {},
   "outputs": [],
   "source": [
    "sub_sam.SalePrice = y_pred"
   ]
  },
  {
   "cell_type": "code",
   "execution_count": null,
   "metadata": {},
   "outputs": [],
   "source": [
    "sub_sam.to_csv('submission3.csv',index=False,float_format='%.6f')"
   ]
  },
  {
   "cell_type": "code",
   "execution_count": null,
   "metadata": {},
   "outputs": [],
   "source": [
    "pd.read_csv('submission3.csv').head()"
   ]
  },
  {
   "cell_type": "code",
   "execution_count": null,
   "metadata": {},
   "outputs": [],
   "source": [
    "print(np.sqrt((pd.read_csv('submission.csv').SalePrice).var()))\n",
    "print(np.sqrt((pd.read_csv('submission2.csv').SalePrice).var()))\n",
    "print(np.sqrt((pd.read_csv('submission3.csv').SalePrice).var()))"
   ]
  },
  {
   "cell_type": "code",
   "execution_count": null,
   "metadata": {},
   "outputs": [],
   "source": [
    "impp = [101, 107,  23, 129,   3, 126,  16,  14,  99, 136, 138, 110, 100,\n",
    "            143,  24, 102, 132, 105,  21,  10,  11,  33,  17, 109, 134,   8,\n",
    "            127,  12,  19,  50, 128,   5,  32,  22,  59,  69,  20, 117, 139,\n",
    "             58,  76, 112, 144, 133,  15,  34,   7, 6]\n",
    "# 70 features\n",
    "feat_imp = pd.Series(model_xgb.feature_importances_).sort_values(ascending=False)\n",
    "imp = feat_imp[:60].index"
   ]
  },
  {
   "cell_type": "code",
   "execution_count": null,
   "metadata": {},
   "outputs": [],
   "source": [
    "model_xgb2 = XGBRegressor(objective='reg:squarederror',**best_params)\n",
    "model_xgb2.fit(x_train.iloc[:,imp_gbm],y_train)\n",
    "print(model_xgb2.score(x_test.iloc[:,imp_gbm],y_test))\n",
    "y_pred = model_xgb2.predict(x_test.iloc[:,imp_gbm])\n",
    "np.sqrt(mean_squared_log_error( y_test, y_pred ))"
   ]
  },
  {
   "cell_type": "code",
   "execution_count": null,
   "metadata": {},
   "outputs": [],
   "source": []
  },
  {
   "cell_type": "code",
   "execution_count": null,
   "metadata": {},
   "outputs": [],
   "source": [
    "model_xgb2 = XGBRegressor(objective='reg:squarederror',**best_params)\n",
    "model_xgb2.fit(raw_data.iloc[:,imp_gbm],raw_label)\n",
    "y_pred = model_xgb2.predict(test_data.iloc[:,imp_gbm])\n"
   ]
  },
  {
   "cell_type": "code",
   "execution_count": null,
   "metadata": {},
   "outputs": [],
   "source": []
  },
  {
   "cell_type": "code",
   "execution_count": null,
   "metadata": {},
   "outputs": [],
   "source": [
    "sub_sam.to_csv('sub_sampling.csv',index=False)"
   ]
  },
  {
   "cell_type": "code",
   "execution_count": null,
   "metadata": {},
   "outputs": [],
   "source": [
    "params = {'learning_rate': 0.1, 'max_depth': 3, 'n_estimators': 250}\n",
    "\n",
    "gbm_model = GradientBoostingRegressor(**params)\n",
    "\n",
    "gbm_model.fit(x_train,y_train)\n",
    "\n",
    "gbm_model.score(x_test,y_test)"
   ]
  },
  {
   "cell_type": "code",
   "execution_count": null,
   "metadata": {},
   "outputs": [],
   "source": [
    "y_pred = gbm_model.predict(x_test)\n",
    "errors = [mean_squared_error(y_test,y_pred) for y_pred in gbm_model.staged_predict(x_test)]\n",
    "np.sqrt(mean_squared_log_error(y_pred,y_test))"
   ]
  },
  {
   "cell_type": "code",
   "execution_count": null,
   "metadata": {},
   "outputs": [],
   "source": [
    "feat_imp = pd.Series(gbm_model.feature_importances_).sort_values(ascending=False)"
   ]
  },
  {
   "cell_type": "code",
   "execution_count": null,
   "metadata": {},
   "outputs": [],
   "source": [
    "imp_gbm = feat_imp[:52].index"
   ]
  },
  {
   "cell_type": "code",
   "execution_count": null,
   "metadata": {},
   "outputs": [],
   "source": []
  },
  {
   "cell_type": "code",
   "execution_count": null,
   "metadata": {},
   "outputs": [],
   "source": [
    "cat_bo = CatBoostRegressor()\n",
    "cat_bo.fit(new_x_train,y_train)\n",
    "cat_bo.score(new_x_test,y_test)"
   ]
  },
  {
   "cell_type": "code",
   "execution_count": null,
   "metadata": {},
   "outputs": [],
   "source": [
    "cb = CatBoostRegressor(n_estimators=1000, # use large n_estimators deliberately to make use of the early stopping\n",
    "                         one_hot_max_size = 2,\n",
    "                         loss_function='Logloss',\n",
    "                         eval_metric='AUC',\n",
    "                         boosting_type='Ordered', # use permutations\n",
    "                         random_seed=2405, \n",
    "                         use_best_model=True,\n",
    "                         silent=True)\n",
    "params_space = [Real(0.01, 0.8, name='learning_rate'), \n",
    "                Integer(2, 10, name='max_depth'), \n",
    "                Real(0.5, 1.0, name='colsample_bylevel'), \n",
    "                Real(1.0, 16.0, name='scale_pos_weight'), \n",
    "                Real(0.0, 100, name='bagging_temperature'), \n",
    "                Real(0.0, 100, name='random_strength'), \n",
    "                Real(1.0, 100, name='reg_lambda')]\n",
    "one_cb_optimal_values = one_cb_optimizer.optimize(params_space, max_evals=40, n_random_starts=4)"
   ]
  }
 ],
 "metadata": {
  "kernelspec": {
   "display_name": "Python 3",
   "language": "python",
   "name": "python3"
  },
  "language_info": {
   "codemirror_mode": {
    "name": "ipython",
    "version": 3
   },
   "file_extension": ".py",
   "mimetype": "text/x-python",
   "name": "python",
   "nbconvert_exporter": "python",
   "pygments_lexer": "ipython3",
   "version": "3.6.5"
  }
 },
 "nbformat": 4,
 "nbformat_minor": 2
}
