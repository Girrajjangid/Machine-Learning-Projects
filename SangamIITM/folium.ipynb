{
 "cells": [
  {
   "cell_type": "code",
   "execution_count": 1,
   "metadata": {},
   "outputs": [],
   "source": [
    "import pandas as pd\n",
    "import matplotlib.pyplot as plt\n",
    "import folium as f"
   ]
  },
  {
   "cell_type": "code",
   "execution_count": 12,
   "metadata": {},
   "outputs": [
    {
     "data": {
      "text/html": [
       "<div>\n",
       "<style scoped>\n",
       "    .dataframe tbody tr th:only-of-type {\n",
       "        vertical-align: middle;\n",
       "    }\n",
       "\n",
       "    .dataframe tbody tr th {\n",
       "        vertical-align: top;\n",
       "    }\n",
       "\n",
       "    .dataframe thead th {\n",
       "        text-align: right;\n",
       "    }\n",
       "</style>\n",
       "<table border=\"1\" class=\"dataframe\">\n",
       "  <thead>\n",
       "    <tr style=\"text-align: right;\">\n",
       "      <th></th>\n",
       "      <th>Location</th>\n",
       "      <th>Latitude</th>\n",
       "      <th>Longitude</th>\n",
       "    </tr>\n",
       "  </thead>\n",
       "  <tbody>\n",
       "    <tr>\n",
       "      <th>0</th>\n",
       "      <td>10001</td>\n",
       "      <td>40.748760</td>\n",
       "      <td>-73.993320</td>\n",
       "    </tr>\n",
       "    <tr>\n",
       "      <th>1</th>\n",
       "      <td>Tokyo</td>\n",
       "      <td>35.689456</td>\n",
       "      <td>139.691716</td>\n",
       "    </tr>\n",
       "    <tr>\n",
       "      <th>2</th>\n",
       "      <td>Sydney</td>\n",
       "      <td>-33.869600</td>\n",
       "      <td>151.206910</td>\n",
       "    </tr>\n",
       "    <tr>\n",
       "      <th>3</th>\n",
       "      <td>Beijing</td>\n",
       "      <td>39.907500</td>\n",
       "      <td>116.397230</td>\n",
       "    </tr>\n",
       "    <tr>\n",
       "      <th>4</th>\n",
       "      <td>Karachi</td>\n",
       "      <td>24.905600</td>\n",
       "      <td>67.082200</td>\n",
       "    </tr>\n",
       "    <tr>\n",
       "      <th>5</th>\n",
       "      <td>Dehli</td>\n",
       "      <td>28.653810</td>\n",
       "      <td>77.228970</td>\n",
       "    </tr>\n",
       "    <tr>\n",
       "      <th>6</th>\n",
       "      <td>Everest</td>\n",
       "      <td>27.987910</td>\n",
       "      <td>86.925290</td>\n",
       "    </tr>\n",
       "    <tr>\n",
       "      <th>7</th>\n",
       "      <td>M9B</td>\n",
       "      <td>43.649692</td>\n",
       "      <td>-79.553945</td>\n",
       "    </tr>\n",
       "    <tr>\n",
       "      <th>8</th>\n",
       "      <td>Eiffel Tower</td>\n",
       "      <td>48.858600</td>\n",
       "      <td>2.293980</td>\n",
       "    </tr>\n",
       "    <tr>\n",
       "      <th>9</th>\n",
       "      <td>Sao Paulo</td>\n",
       "      <td>-23.562870</td>\n",
       "      <td>-46.654680</td>\n",
       "    </tr>\n",
       "    <tr>\n",
       "      <th>10</th>\n",
       "      <td>Moscow</td>\n",
       "      <td>55.756960</td>\n",
       "      <td>37.615020</td>\n",
       "    </tr>\n",
       "  </tbody>\n",
       "</table>\n",
       "</div>"
      ],
      "text/plain": [
       "        Location   Latitude   Longitude\n",
       "0          10001  40.748760  -73.993320\n",
       "1          Tokyo  35.689456  139.691716\n",
       "2         Sydney -33.869600  151.206910\n",
       "3        Beijing  39.907500  116.397230\n",
       "4        Karachi  24.905600   67.082200\n",
       "5          Dehli  28.653810   77.228970\n",
       "6        Everest  27.987910   86.925290\n",
       "7            M9B  43.649692  -79.553945\n",
       "8   Eiffel Tower  48.858600    2.293980\n",
       "9      Sao Paulo -23.562870  -46.654680\n",
       "10        Moscow  55.756960   37.615020"
      ]
     },
     "execution_count": 12,
     "metadata": {},
     "output_type": "execute_result"
    }
   ],
   "source": [
    "Location  = ['10001', 'Tokyo', 'Sydney', 'Beijing', 'Karachi', 'Dehli', 'Everest', 'M9B', 'Eiffel Tower', 'Sao Paulo', 'Moscow']\n",
    "Latitude  = [40.74876000000006, 35.68945633200008, -33.869599999999934, 39.90750000000003, 24.90560000000005, 28.653810000000078, 27.987910000000056, 43.64969222700006, 48.85859991892235, -23.562869999999975, 55.75696000000005]\n",
    "Longitude = [-73.99331999999998, 139.69171608500005, 151.2069100000001, 116.39723000000004, 67.08220000000006, 77.22897000000006, 86.92529000000007, -79.55394499999994, 2.293980070546176, -46.654679999999985, 37.61502000000007]\n",
    "\n",
    "df = pd.DataFrame(columns = {'Location','Latitude','Longitude'})\n",
    "df.columns = ['Location','Latitude','Longitude']\n",
    "df['Location']  = Location\n",
    "df['Latitude']  = Latitude\n",
    "df['Longitude'] = Longitude\n",
    "\n",
    "df"
   ]
  },
  {
   "cell_type": "code",
   "execution_count": null,
   "metadata": {},
   "outputs": [],
   "source": [
    "for device_id , (lat,log) in latlog.items():\n",
    "    popup = f.Popup( device_id, max_width=1000)\n",
    "    #Plotting the Marker for each stations\n",
    "    f.map.Marker(\n",
    "        location=[lat,log], \n",
    "        popup   =popup,\n",
    "        icon    =f.Icon(color=\"green\",icon=\"train\", prefix='fa')\n",
    "    ).add_to(init_map)\n",
    "    \n",
    "    f.vector_layers.CircleMarker(\n",
    "        popup = popup\n",
    "        location=[lat,log], \n",
    "        radius=5,\n",
    "        color='#3186cc',\n",
    "        fill_color='#3186cc'\n",
    "    ).add_to(init_map)\n",
    "\n",
    "\n",
    "init_map"
   ]
  },
  {
   "cell_type": "code",
   "execution_count": 14,
   "metadata": {},
   "outputs": [
    {
     "data": {
      "text/html": [
       "<div style=\"width:100%;\"><div style=\"position:relative;width:100%;height:0;padding-bottom:60%;\"><iframe src=\"data:text/html;charset=utf-8;base64,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\" style=\"position:absolute;width:100%;height:100%;left:0;top:0;border:none !important;\" allowfullscreen webkitallowfullscreen mozallowfullscreen></iframe></div></div>"
      ],
      "text/plain": [
       "<folium.folium.Map at 0x16e4d19c860>"
      ]
     },
     "execution_count": 14,
     "metadata": {},
     "output_type": "execute_result"
    }
   ],
   "source": [
    "#  center map on mean of Latitude/Longitude\n",
    "map_world = f.Map(location=[df.Latitude.mean(), df.Longitude.mean()], tiles = 'stamenterrain', zoom_start = 2\n",
    "                 ,width=1000,height=400)\n",
    "map_world\n",
    "#  add Locations to map\n",
    "for lat, lng, label in zip(df.Latitude, df.Longitude, df.Location):\n",
    "    f.CircleMarker(\n",
    "        [lat, lng],\n",
    "        radius=5,\n",
    "        popup=label,\n",
    "        fill=True,\n",
    "        color='Blue',\n",
    "        fill_color='Yellow',\n",
    "        fill_opacity=0.6\n",
    "        ).add_to(map_world)\n",
    "\n",
    "    \n",
    "#  display interactive map\n",
    "map_world\n",
    "\n",
    "#  save map to local machine, open in any browser\n",
    "#  map_world.save(\"C:\\\\ ... <path> ... \\map_world_NYC.html\")"
   ]
  },
  {
   "cell_type": "code",
   "execution_count": 26,
   "metadata": {},
   "outputs": [],
   "source": [
    "import pandas as pd\n",
    "import folium\n",
    "\n",
    "# this is timestemp 2016-03-14 17:24:25\n",
    "#df.pickup_datetime = pd.to_datetime(df.pickup_datetime, format='%Y-%m-%d %H:%M:%S')\n",
    "##df['month'] = df.pickup_datetime.apply(lambda x: x.month)\n",
    "#df['week'] = df.pickup_datetime.apply(lambda x: x.week)\n",
    "#df['day'] = df.pickup_datetime.apply(lambda x: x.day)\n",
    "#df['hour'] = df.pickup_datetime.apply(lambda x: x.hour)"
   ]
  },
  {
   "cell_type": "code",
   "execution_count": 27,
   "metadata": {},
   "outputs": [],
   "source": [
    "def generateBaseMap(default_location=[28.693943, 77.985880], default_zoom_start=12):\n",
    "    base_map = folium.Map(location=default_location, control_scale=True, zoom_start=default_zoom_start)\n",
    "    return base_map"
   ]
  },
  {
   "cell_type": "code",
   "execution_count": 25,
   "metadata": {
    "scrolled": true
   },
   "outputs": [
    {
     "data": {
      "text/html": [
       "<div style=\"width:100%;\"><div style=\"position:relative;width:100%;height:0;padding-bottom:60%;\"><iframe src=\"data:text/html;charset=utf-8;base64,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\" style=\"position:absolute;width:100%;height:100%;left:0;top:0;border:none !important;\" allowfullscreen webkitallowfullscreen mozallowfullscreen></iframe></div></div>"
      ],
      "text/plain": [
       "<folium.folium.Map at 0x16e4d0b2160>"
      ]
     },
     "execution_count": 25,
     "metadata": {},
     "output_type": "execute_result"
    }
   ],
   "source": [
    "basemap = generateBaseMap()\n",
    "basemap"
   ]
  },
  {
   "cell_type": "code",
   "execution_count": null,
   "metadata": {},
   "outputs": [],
   "source": [
    "from folium.plugins import HeatMap\n",
    "df_copy = df[df.month>4].copy()\n",
    "df_copy['count'] = 1\n",
    "base_map = generateBaseMap()\n",
    "HeatMap(\n",
    "    data=df_copy[['pickup_latitude', 'pickup_longitude', 'count']].groupby(['pickup_latitude', 'pickup_longitude']).sum().reset_index().values.tolist(),\n",
    "    radius=8, \n",
    "    max_zoom=13).\n",
    "add_to(base_map)\n"
   ]
  },
  {
   "cell_type": "code",
   "execution_count": null,
   "metadata": {},
   "outputs": [],
   "source": [
    "base_map.add_child(folium.ClickForMarker(popup='Potential Location'))"
   ]
  },
  {
   "cell_type": "code",
   "execution_count": null,
   "metadata": {},
   "outputs": [],
   "source": [
    "df_hour_list = []\n",
    "for hour in df_copy.hour.sort_values().unique():\n",
    "    df_hour_list.append(\n",
    "        df_copy.loc[df_copy.hour == hour, ['pickup_latitude', 'pickup_longitude', 'count']].\n",
    "        groupby(['pickup_latitude', 'pickup_longitude']).sum().reset_index().values.tolist())\n"
   ]
  },
  {
   "cell_type": "code",
   "execution_count": null,
   "metadata": {},
   "outputs": [],
   "source": [
    "from folium.plugins import HeatMapWithTime\n",
    "base_map = generateBaseMap(default_zoom_start=11)\n",
    "HeatMapWithTime(df_hour_list, radius=5, gradient={0.2: 'blue', 0.4: 'lime', 0.6: 'orange', 1: 'red'}, min_opacity=0.5, max_opacity=0.8, use_local_extrema=True).add_to(base_map)\n",
    "base_map"
   ]
  },
  {
   "cell_type": "code",
   "execution_count": null,
   "metadata": {},
   "outputs": [],
   "source": [
    "plt.figure(figsize=(20,10), dpi = 80)\n",
    "sns.countplot(x='State',data=data)\n",
    "plt.xlabel('State')\n",
    "plt.tight_layout()"
   ]
  },
  {
   "cell_type": "code",
   "execution_count": null,
   "metadata": {},
   "outputs": [],
   "source": [
    "import seaborn as sns\n",
    "sns.set(style=\"darkgrid\")\n",
    "\n",
    "# Load an example dataset with long-form data\n",
    "fmri = sns.load_dataset(\"fmri\")\n",
    "\n",
    "# Plot the responses for different events and regions\n",
    "sns.lineplot(x=\"timepoint\", y=\"signal\",\n",
    "             hue=\"region\", style=\"event\",\n",
    "             data=fmri)"
   ]
  },
  {
   "cell_type": "code",
   "execution_count": null,
   "metadata": {},
   "outputs": [],
   "source": [
    "# Create the data object\n",
    "energy_data = go.Scatter(x=raw_data[raw_data.device_id == 'S5'].timestamp,\n",
    "                        y=raw_data[raw_data.device_id == 'S5'].temperature,\n",
    "                        line=go.scatter.Line(color='red', width = 0.8),\n",
    "                           opacity=0.8,\n",
    "                           name='Energy',\n",
    "                           text=[f'Energy: {x:.0f} kWh' for x in raw_data[raw_data.device_id == 'S5'].temperature])\n",
    "\n",
    "\n",
    "# Set up the plot layout\n",
    "layout = go.Layout(height=800, width=800, titlefont=dict(size=20),\n",
    "                   font=dict(size=16),\n",
    "                   title='Temperature at S5', xaxis=dict(title='Date'),\n",
    "                   yaxis=dict(title='Temperature'))\n",
    "\n",
    "# Create figure and display\n",
    "fig = go.Figure(data=[energy_data], layout=layout)\n",
    "iplot(fig)"
   ]
  }
 ],
 "metadata": {
  "kernelspec": {
   "display_name": "Python 3",
   "language": "python",
   "name": "python3"
  },
  "language_info": {
   "codemirror_mode": {
    "name": "ipython",
    "version": 3
   },
   "file_extension": ".py",
   "mimetype": "text/x-python",
   "name": "python",
   "nbconvert_exporter": "python",
   "pygments_lexer": "ipython3",
   "version": "3.7.0"
  }
 },
 "nbformat": 4,
 "nbformat_minor": 2
}
