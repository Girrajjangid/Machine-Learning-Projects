{
 "cells": [
  {
   "cell_type": "markdown",
   "metadata": {},
   "source": [
    "Build a RESTful service that extracts expense date from a receipt. Please feel free to use any language and framework of your choice. Deploy the service on any cloud platform like Heroku/AWS/GCP. The service should contain one API which has the following contract:\n",
    "\n",
    "Request:\n",
    "POST /extract_date\n",
    "\n",
    "Payload:\n",
    "{“base_64_image_content”: <base_64_image_content>}\n",
    "\n",
    "Response:\n",
    "If date is present:\n",
    "{“date”: “YYYY-MM-DD”}\n",
    "If date is not present:\n",
    "{“date”: null}\n",
    "\n",
    "Calculate the accuracy of the service against the sample receipts dataset given. This can be calculated as follows:\n",
    "\n",
    "accuracy = (number of receipts for which the service extracted correct date/total receipts)*100%\n"
   ]
  },
  {
   "cell_type": "code",
   "execution_count": 1,
   "metadata": {},
   "outputs": [],
   "source": [
    "from PIL import Image\n",
    "import pytesseract as pt\n",
    "import glob\n",
    "import re\n",
    "from dateutil.parser import parse\n",
    "import dateparser\n",
    "from dateparser.search import search_dates\n",
    "from datefinder import find_dates\n",
    "pt.pytesseract.tesseract_cmd = 'C:/Program Files/Tesseract-OCR/tesseract.exe'"
   ]
  },
  {
   "cell_type": "code",
   "execution_count": 118,
   "metadata": {},
   "outputs": [],
   "source": [
    "#img_paths = glob.glob('images/*')\n",
    "# '2b931f74.jpeg'\n",
    "img_str = pt.image_to_string('images/5d80cb45.jpeg')"
   ]
  },
  {
   "cell_type": "code",
   "execution_count": 119,
   "metadata": {
    "collapsed": true
   },
   "outputs": [
    {
     "name": "stdout",
     "output_type": "stream",
     "text": [
      "HOTEL HIGHWAY KING\n",
      "DELHI JAIFUR HIGHWAY,N.H.8\n",
      "PH: 9828338100\n",
      "TIN: 08571764475\n",
      "GST NO. :O8AALPY6817A12ZF\n",
      "\n",
      "SAC Code: 996332\n",
      "\n",
      "Name :\n",
      "\n",
      "Date + 16/07/2019\n",
      "\n",
      "Time ; 09:56:33\n",
      "\n",
      "Ttem Nane Quantity Rate Amount\n",
      "\n",
      "DAL CHAWEL 1 160.00 160.00\n",
      "\n",
      " \n",
      "\n",
      "Taxable 160.00 CGST 2.50% : 4.00\n",
      "Taxable 160.00 SGST 2.50% : 4.00\n",
      "Net Total (Rounded) : 168\n",
      "\n",
      "Rs. ONE HUNDRED SIXTY EIGHT ONLY\n"
     ]
    }
   ],
   "source": [
    "print(img_str)"
   ]
  },
  {
   "cell_type": "code",
   "execution_count": 97,
   "metadata": {},
   "outputs": [],
   "source": [
    "newstr = list(set(map(lambda x : x.strip(), img_str.split('\\n'))))"
   ]
  },
  {
   "cell_type": "code",
   "execution_count": null,
   "metadata": {},
   "outputs": [],
   "source": [
    "l = ['29-May-2019','22.05.2019','05/07/2019','28-Jun-2019','18/06/2019',\n",
    "     '03/Jun/2019','06/20/19','07/12/2019','07-Jun-2019','6/28/2019',\n",
    "     '30-04-2019','Sep 29, 2018','27-Jun-19','22/05/19','Jun 1, 2019',\n",
    "     '09-Jul-19',\"21/5\",\"07-06-19\",\"10-20-2018\",\"17-Feb-2018\",\"06/06/19\",\n",
    "     \"24/06/19\",\"Oct06'16\",\"5/29/2019\",\"03/Jul/2019\",\"06/29/2019\",\"02-Mar-2019\",\n",
    "     \"Mar18'18\"]"
   ]
  },
  {
   "cell_type": "code",
   "execution_count": 84,
   "metadata": {},
   "outputs": [
    {
     "data": {
      "text/plain": [
       "['ee COCO',\n",
       " '',\n",
       " 'PARTICULARS RATE AMOUNT 4',\n",
       " 'ferent ae g e.',\n",
       " 'EO',\n",
       " 'pate aL] 06/19',\n",
       " '| 660!']"
      ]
     },
     "execution_count": 84,
     "metadata": {},
     "output_type": "execute_result"
    }
   ],
   "source": [
    "newstr"
   ]
  },
  {
   "cell_type": "code",
   "execution_count": 98,
   "metadata": {},
   "outputs": [],
   "source": [
    "tags = []\n",
    "for i in newstr:\n",
    "    try:\n",
    "        find_date = search_dates(i) \n",
    "    except:\n",
    "        continue\n",
    "    if find_date:\n",
    "        for j in find_date:\n",
    "            tags.append(j[0])"
   ]
  },
  {
   "cell_type": "code",
   "execution_count": 99,
   "metadata": {},
   "outputs": [
    {
     "data": {
      "text/plain": [
       "['76661',\n",
       " '85:53:53',\n",
       " '549',\n",
       " '1026',\n",
       " '57544619961',\n",
       " '896046193',\n",
       " 'KAN',\n",
       " '9500',\n",
       " '107',\n",
       " 'ANY',\n",
       " '#246017']"
      ]
     },
     "execution_count": 99,
     "metadata": {},
     "output_type": "execute_result"
    }
   ],
   "source": [
    "tags"
   ]
  },
  {
   "cell_type": "code",
   "execution_count": 87,
   "metadata": {},
   "outputs": [],
   "source": [
    "pattern1 = r'(\\d{1,4}([.\\-/])\\d{1,2}([.\\-/])\\d{1,4})'\n",
    "\n",
    "pattern2 = r'(\\d{1,4}([.\\-/\\s])[ADFJMNOSadfjmnos]\\w*([.\\-/\\s])\\d{1,4})'\n",
    "\n",
    "pattern3 = r\"([ADFJMNOSadfjmnos]\\w*\\s\\d{1,4}([,.\\-/\\s]*)([.\\-/\\s])\\d{1,4})\"\n",
    "\n",
    "pattern4 = r\"[ADFJMNOSadfjmnos]\\w*\\d{1,4}([']*)\\d{1,4}\"\n",
    "\n",
    "pattern5 = r\"(\\d{1,4}([.\\-/\\s])\\d{1,4}\""
   ]
  },
  {
   "cell_type": "code",
   "execution_count": 100,
   "metadata": {},
   "outputs": [],
   "source": [
    "date_find = []"
   ]
  },
  {
   "cell_type": "code",
   "execution_count": 105,
   "metadata": {},
   "outputs": [],
   "source": [
    "for i in tags:\n",
    "    for j in (re.search(regex,i) for regex in [pattern1, pattern2, pattern3, pattern4]):\n",
    "        if j:\n",
    "            s = j.group()\n",
    "            \n",
    "            if s.find('.'):\n",
    "                date_find.append(\"-\".join(s.split('.')))\n",
    "            else:\n",
    "                date_find.append(s)\n",
    "            print('i: ',i,' s: ',s)"
   ]
  },
  {
   "cell_type": "code",
   "execution_count": 106,
   "metadata": {},
   "outputs": [
    {
     "data": {
      "text/plain": [
       "['nleaded 13-1026', '87/16/2619', 'N36']"
      ]
     },
     "execution_count": 106,
     "metadata": {},
     "output_type": "execute_result"
    }
   ],
   "source": [
    "date_find"
   ]
  },
  {
   "cell_type": "code",
   "execution_count": 107,
   "metadata": {},
   "outputs": [],
   "source": [
    "date_find = list(set(date_find))"
   ]
  },
  {
   "cell_type": "code",
   "execution_count": 108,
   "metadata": {},
   "outputs": [
    {
     "ename": "TypeError",
     "evalue": "'NoneType' object is not subscriptable",
     "output_type": "error",
     "traceback": [
      "\u001b[1;31m---------------------------------------------------------------------------\u001b[0m",
      "\u001b[1;31mTypeError\u001b[0m                                 Traceback (most recent call last)",
      "\u001b[1;32m<ipython-input-108-ab1c49d7eabb>\u001b[0m in \u001b[0;36m<module>\u001b[1;34m()\u001b[0m\n\u001b[0;32m      1\u001b[0m \u001b[0mdates\u001b[0m \u001b[1;33m=\u001b[0m \u001b[1;33m{\u001b[0m\u001b[1;33m}\u001b[0m\u001b[1;33m\u001b[0m\u001b[0m\n\u001b[0;32m      2\u001b[0m \u001b[1;32mfor\u001b[0m \u001b[0mi\u001b[0m \u001b[1;32min\u001b[0m \u001b[0mdate_find\u001b[0m\u001b[1;33m:\u001b[0m\u001b[1;33m\u001b[0m\u001b[0m\n\u001b[1;32m----> 3\u001b[1;33m     \u001b[0mdates\u001b[0m\u001b[1;33m[\u001b[0m\u001b[0mi\u001b[0m\u001b[1;33m]\u001b[0m \u001b[1;33m=\u001b[0m \u001b[0msearch_dates\u001b[0m\u001b[1;33m(\u001b[0m\u001b[0mi\u001b[0m\u001b[1;33m)\u001b[0m\u001b[1;33m[\u001b[0m\u001b[1;36m0\u001b[0m\u001b[1;33m]\u001b[0m\u001b[1;33m[\u001b[0m\u001b[1;36m1\u001b[0m\u001b[1;33m]\u001b[0m\u001b[1;33m.\u001b[0m\u001b[0mstrftime\u001b[0m\u001b[1;33m(\u001b[0m\u001b[1;34m\"%Y-%m-%d\"\u001b[0m\u001b[1;33m)\u001b[0m\u001b[1;33m\u001b[0m\u001b[0m\n\u001b[0m",
      "\u001b[1;31mTypeError\u001b[0m: 'NoneType' object is not subscriptable"
     ]
    }
   ],
   "source": [
    "dates = {}\n",
    "for i in date_find:\n",
    "    dates[i] = search_dates(i)[0][1].strftime(\"%Y-%m-%d\")"
   ]
  },
  {
   "cell_type": "code",
   "execution_count": null,
   "metadata": {},
   "outputs": [],
   "source": [
    "tags = ['29-May-2019','22.05.2019','05/07/2019','28-Jun-2019','18/06/2019',\n",
    "     '03/Jun/2019','06/20/19','07/12/2019','07-Jun-2019','6/28/2019',\n",
    "     '30-04-2019','Sep 29, 2018','27-Jun-19','22/05/19','Jun 1, 2019',\n",
    "     '09-Jul-19',\"21/5\",\"07-06-19\",\"10-20-2018\",\"17-Feb-2018\",\"06/06/19\",\n",
    "     \"24/06/19\",\"Oct06'16\",\"5/29/2019\",\"03/Jul/2019\",\"06/29/2019\",\"02-Mar-2019\",\n",
    "     \"Mar18'18\"]"
   ]
  },
  {
   "cell_type": "code",
   "execution_count": 14,
   "metadata": {},
   "outputs": [
    {
     "data": {
      "text/plain": [
       "{'25-07-2019': '2019-07-25'}"
      ]
     },
     "execution_count": 14,
     "metadata": {},
     "output_type": "execute_result"
    }
   ],
   "source": [
    "dates"
   ]
  },
  {
   "cell_type": "code",
   "execution_count": null,
   "metadata": {},
   "outputs": [],
   "source": [
    "for i in new_date_find:\n",
    "    print(search_dates(i))"
   ]
  }
 ],
 "metadata": {
  "kernelspec": {
   "display_name": "Python 3",
   "language": "python",
   "name": "python3"
  },
  "language_info": {
   "codemirror_mode": {
    "name": "ipython",
    "version": 3
   },
   "file_extension": ".py",
   "mimetype": "text/x-python",
   "name": "python",
   "nbconvert_exporter": "python",
   "pygments_lexer": "ipython3",
   "version": "3.6.5"
  }
 },
 "nbformat": 4,
 "nbformat_minor": 2
}
